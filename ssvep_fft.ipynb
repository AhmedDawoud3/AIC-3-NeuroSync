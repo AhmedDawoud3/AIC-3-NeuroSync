{
 "cells": [
  {
   "cell_type": "code",
   "execution_count": 1,
   "id": "858fe23a",
   "metadata": {},
   "outputs": [],
   "source": [
    "import os\n",
    "import pandas as pd\n",
    "import numpy as np\n",
    "import torch\n",
    "from torch.utils.data import Dataset, DataLoader\n",
    "import mne\n",
    "from mne.preprocessing import ICA\n",
    "from tqdm import tqdm\n",
    "import numpy as np\n",
    "\n",
    "import matplotlib.pyplot as plt\n",
    "%matplotlib inline"
   ]
  },
  {
   "cell_type": "code",
   "execution_count": 2,
   "id": "806bdf7f",
   "metadata": {},
   "outputs": [],
   "source": [
    "class EEG_Dataset(Dataset):\n",
    "    def __init__(\n",
    "        self,\n",
    "        index_csv: str,\n",
    "        base_path: str,\n",
    "        ch_names: list,\n",
    "        sfreq: float = 250.0,\n",
    "        transform: callable = None,  # type: ignore\n",
    "    ):\n",
    "        self.base_path = base_path\n",
    "        self.ch_names = ch_names\n",
    "        self.sfreq = sfreq\n",
    "        self.transform = transform\n",
    "\n",
    "        # Load the index CSV\n",
    "        self.df = pd.read_csv(os.path.join(base_path, index_csv))\n",
    "        # the fist half of the dataset\n",
    "        # If 'label' not in test.csv, self.df['label'] will KeyError; handle below.\n",
    "\n",
    "    def __len__(self):\n",
    "        return len(self.df)\n",
    "\n",
    "    def __getitem__(self, idx):\n",
    "        row = self.df.iloc[idx]\n",
    "        # Determine split\n",
    "        id_num = row[\"id\"]\n",
    "        if id_num <= 4800:\n",
    "            split = \"train\"\n",
    "        elif id_num <= 4900:\n",
    "            split = \"validation\"\n",
    "        else:\n",
    "            split = \"test\"\n",
    "\n",
    "        # Path to session CSV\n",
    "        eeg_path = os.path.join(\n",
    "            self.base_path,\n",
    "            row[\"task\"],\n",
    "            split,\n",
    "            f\"{row['subject_id']}\",\n",
    "            str(row[\"trial_session\"]),\n",
    "            \"EEGdata.csv\",\n",
    "        )\n",
    "\n",
    "        # Load full session\n",
    "        sess_df = pd.read_csv(eeg_path)\n",
    "\n",
    "        # Determine samples per trial\n",
    "        if row[\"task\"] == \"MI\":\n",
    "            samp = 9 * self.sfreq  # 2250\n",
    "        else:  # SSVEP\n",
    "            samp = 7 * self.sfreq  # 1750\n",
    "\n",
    "        n = int(samp)\n",
    "        start = (int(row[\"trial\"]) - 1) * n\n",
    "        end = start + n\n",
    "\n",
    "        # Slice out EEG channels only\n",
    "        data = sess_df[self.ch_names].iloc[start:end].to_numpy().T  # shape (8, n)\n",
    "\n",
    "        # Optional MNE preprocessing\n",
    "        info = mne.create_info(\n",
    "            ch_names=self.ch_names,\n",
    "            sfreq=self.sfreq,\n",
    "            ch_types=[\"eeg\"] * len(self.ch_names),  # type: ignore\n",
    "        )\n",
    "        if self.transform is not None:\n",
    "            with mne.utils.use_log_level(\"WARNING\"):\n",
    "                info = mne.create_info(\n",
    "                    ch_names=self.ch_names,\n",
    "                    sfreq=self.sfreq,\n",
    "                    ch_types=[\"eeg\"] * len(self.ch_names),\n",
    "                )\n",
    "                raw = mne.io.RawArray(data, info)\n",
    "                raw = self.transform(raw)\n",
    "                data = raw.get_data()\n",
    "\n",
    "        # To tensor\n",
    "        eeg_tensor = torch.from_numpy(data).float()\n",
    "\n",
    "        # Return with/without label\n",
    "        if \"label\" in self.df.columns:\n",
    "            label = row[\"label\"]\n",
    "            return eeg_tensor, label\n",
    "        else:\n",
    "            return eeg_tensor\n",
    "\n",
    "\n",
    "class MI_Dataset(EEG_Dataset):\n",
    "    def __init__(\n",
    "        self,\n",
    "        base_path: str,\n",
    "        index_csv: str,\n",
    "        ch_names: list,\n",
    "        sfreq: float = 250.0,\n",
    "        transform: callable = None,  # type: ignore\n",
    "    ):\n",
    "        super().__init__(\n",
    "            base_path=base_path,\n",
    "            index_csv=index_csv,\n",
    "            ch_names=ch_names,\n",
    "            sfreq=sfreq,\n",
    "            transform=transform,\n",
    "        )\n",
    "\n",
    "        self.df = self.df[self.df[\"task\"] == \"MI\"].reset_index(drop=True)\n",
    "\n",
    "\n",
    "class SSVEP_Dataset(EEG_Dataset):\n",
    "    def __init__(\n",
    "        self,\n",
    "        base_path: str,\n",
    "        index_csv: str,\n",
    "        ch_names: list,\n",
    "        sfreq: float = 250.0,\n",
    "        transform: callable = None,  # type: ignore\n",
    "    ):\n",
    "        super().__init__(\n",
    "            base_path=base_path,\n",
    "            index_csv=index_csv,\n",
    "            ch_names=ch_names,\n",
    "            sfreq=sfreq,\n",
    "            transform=transform,\n",
    "        )\n",
    "\n",
    "        self.df = self.df[self.df[\"task\"] == \"SSVEP\"].reset_index(drop=True)"
   ]
  },
  {
   "cell_type": "code",
   "execution_count": 296,
   "id": "6a1acda8",
   "metadata": {},
   "outputs": [
    {
     "name": "stdout",
     "output_type": "stream",
     "text": [
      "Number of training samples: 2400\n",
      "Number of validation samples: 50\n",
      "\n",
      "Sample EEG tensor shape: torch.Size([1, 8, 1750])\n",
      "Sample label: Backward\n",
      "Encoded labels: ['Backward' 'Forward' 'Left' 'Right']\n"
     ]
    }
   ],
   "source": [
    "# ch_names = [\"FZ\", \"C3\", \"CZ\", \"C4\", \"PZ\", \"PO7\", \"OZ\", \"PO8\"]\n",
    "from sklearn.calibration import LabelEncoder\n",
    "\n",
    "\n",
    "# ch_names = [\"OZ\", \"PO7\", \"PO8\", \"PZ\"]\n",
    "CH_NAMES = [\"FZ\", \"C3\", \"CZ\", \"C4\", \"PZ\", \"PO7\", \"OZ\", \"PO8\"]\n",
    "# CH_NAMES = [\"PZ\", \"PO7\", \"OZ\", \"PO8\", \"C3\", \"C4\"]\n",
    "\n",
    "SFREQ = 250.0\n",
    "\n",
    "# --- Load Datasets ---\n",
    "# For simplicity in this example, we won't apply any MNE transforms at the dataset level yet.\n",
    "train_dataset = SSVEP_Dataset(\n",
    "    base_path=\"\",\n",
    "    index_csv=\"train.csv\",\n",
    "    ch_names=CH_NAMES,\n",
    "    sfreq=SFREQ,\n",
    "    transform=lambda raw: raw.notch_filter(\n",
    "        freqs=50.0, picks=\"eeg\", fir_design=\"firwin\"\n",
    "    ),\n",
    ")\n",
    "\n",
    "validation_dataset = SSVEP_Dataset(\n",
    "    base_path=\"\",\n",
    "    index_csv=\"validation.csv\",\n",
    "    ch_names=CH_NAMES,\n",
    "    sfreq=SFREQ,\n",
    "    transform=lambda raw: raw.notch_filter(\n",
    "        freqs=50.0, picks=\"eeg\", fir_design=\"firwin\"\n",
    "    ),\n",
    ")\n",
    "\n",
    "# --- Create DataLoaders ---\n",
    "# We can use a batch size of 1 for this kind of feature extraction\n",
    "train_loader = DataLoader(train_dataset, batch_size=1, shuffle=True)\n",
    "validation_loader = DataLoader(validation_dataset, batch_size=1, shuffle=False)\n",
    "\n",
    "print(f\"Number of training samples: {len(train_dataset)}\")\n",
    "print(f\"Number of validation samples: {len(validation_dataset)}\")\n",
    "\n",
    "# --- Inspect a sample ---\n",
    "eeg_tensor, label = next(iter(train_loader))\n",
    "print(f\"\\nSample EEG tensor shape: {eeg_tensor.shape}\")\n",
    "print(f\"Sample label: {label[0]}\")\n",
    "\n",
    "STIM_FREQS = {\"Left\": 10.0, \"Right\": 13.0, \"Forward\": 7.0, \"Backward\": 8.0}\n",
    "LABELS = list(STIM_FREQS.keys())\n",
    "\n",
    "# --- Encode Labels ---\n",
    "label_encoder = LabelEncoder()\n",
    "label_encoder.fit(LABELS)\n",
    "label_encoder.classes_\n",
    "print(f\"Encoded labels: {label_encoder.classes_}\")"
   ]
  },
  {
   "cell_type": "code",
   "execution_count": 297,
   "id": "a089630c",
   "metadata": {},
   "outputs": [],
   "source": [
    "from scipy.signal import butter, sosfilt\n",
    "from sklearn.cross_decomposition import CCA\n",
    "import numpy as np\n",
    "\n",
    "# Use only the most relevant channels for SSVEP\n",
    "SSVEP_CHANNELS = [\"PZ\", \"PO7\", \"OZ\", \"PO8\", \"C3\", \"C4\"]\n",
    "\n",
    "\n",
    "def generate_reference_signals(freq, n_samples, sfreq, n_harmonics=2):\n",
    "    \"\"\"\n",
    "    Generates sine and cosine reference signals for a given frequency and its harmonics.\n",
    "    (This function was correct and remains the same)\n",
    "    \"\"\"\n",
    "    t = np.arange(n_samples) / sfreq\n",
    "    refs = []\n",
    "    for h in range(1, n_harmonics + 1):\n",
    "        refs.append(np.sin(2 * np.pi * h * freq * t))\n",
    "        refs.append(np.cos(2 * np.pi * h * freq * t))\n",
    "    return np.stack(refs).T\n",
    "\n",
    "\n",
    "def create_filter_bank(sfreq, n_bands=5, band_width=8, start_freq=6.0):\n",
    "    \"\"\"\n",
    "    Creates a bank of band-pass Butterworth filters.\n",
    "\n",
    "    Args:\n",
    "        sfreq (float): Sampling frequency.\n",
    "        n_bands (int): The number of filters in the bank.\n",
    "        band_width (int): The width of each band in Hz.\n",
    "\n",
    "    Returns:\n",
    "        list: A list of SOS filter coefficients.\n",
    "    \"\"\"\n",
    "    filters = []\n",
    "    # Starting frequency for the first band\n",
    "\n",
    "    for i in range(n_bands):\n",
    "        low_cut = start_freq + i * band_width\n",
    "        high_cut = start_freq + (i + 1) * band_width\n",
    "\n",
    "        # Ensure the high cutoff doesn't exceed the Nyquist frequency\n",
    "        if high_cut >= sfreq / 2:\n",
    "            high_cut = sfreq / 2 - 0.1  # Leave a small margin\n",
    "\n",
    "        sos = butter(5, [low_cut, high_cut], btype=\"band\", fs=sfreq, output=\"sos\")\n",
    "        filters.append(sos)\n",
    "\n",
    "        if high_cut >= sfreq / 2 - 0.1:\n",
    "            break  # Stop if we've reached the Nyquist frequency\n",
    "\n",
    "    return filters\n",
    "\n",
    "\n",
    "def correlations_with_fbcca_corrected(\n",
    "    eeg_tensor,\n",
    "    all_ch_names,\n",
    "    stim_freqs,\n",
    "    sfreq,\n",
    "    n_harmonics,\n",
    "    n_bands,\n",
    "    band_width,\n",
    "    start_freq,\n",
    "):\n",
    "    \"\"\"\n",
    "    Classifies a single EEG trial using a CORRECTED Filter Bank CCA (FBCCA).\n",
    "    \"\"\"\n",
    "    # --- 1. Data Selection (Channels and Time) ---\n",
    "    ssvep_ch_indices = [all_ch_names.index(ch) for ch in SSVEP_CHANNELS]\n",
    "    # print(f\"Selected SSVEP channels indices: {ssvep_ch_indices}\")\n",
    "    eeg_data = eeg_tensor.squeeze(0).numpy()[ssvep_ch_indices, :]\n",
    "\n",
    "    # Trim the first 0.5s and last 0.5s to focus on the stable part\n",
    "    trim_samples = int(0.5 * sfreq)\n",
    "    eeg_data = eeg_data[:, trim_samples:-trim_samples]\n",
    "\n",
    "    n_samples = eeg_data.shape[1]\n",
    "\n",
    "    # --- 2. Generate Filter Bank and Reference Signals ---\n",
    "    n_harmonics = 2\n",
    "    filter_bank = create_filter_bank(sfreq, n_bands, band_width, start_freq)\n",
    "\n",
    "    reference_signals = {\n",
    "        label: generate_reference_signals(freq, n_samples, sfreq, n_harmonics)\n",
    "        for label, freq in stim_freqs.items()\n",
    "    }\n",
    "\n",
    "    # --- 3. Apply FBCCA ---\n",
    "    cca = CCA(n_components=1)\n",
    "    class_scores = {}\n",
    "\n",
    "    for label, ref_sig in reference_signals.items():\n",
    "        correlations = []\n",
    "\n",
    "        # Iterate through each filter in the bank\n",
    "        for sos_filter in filter_bank:\n",
    "            # Filter the EEG data for the current sub-band\n",
    "            eeg_filtered = sosfilt(sos_filter, eeg_data, axis=1)\n",
    "\n",
    "            # CCA between filtered EEG and the reference signal\n",
    "            cca.fit(eeg_filtered.T, ref_sig)\n",
    "            u, v = cca.transform(eeg_filtered.T, ref_sig)\n",
    "            corr = np.corrcoef(u.T, v.T)[0, 1]\n",
    "            correlations.append(corr)\n",
    "\n",
    "        # Combine the correlations. Using simple sum of squares is a robust start.\n",
    "        # class_scores[label] = np.max(np.array(correlations))\n",
    "        class_scores[label] = correlations\n",
    "        # normalize the scores\n",
    "        # class_scores[label] = class_scores[label] / np.linalg.norm(class_scores[label])\n",
    "        \n",
    "        # softmax\n",
    "        # class_scores[label] = np\n",
    "        # class_scores[label] = correlations\n",
    "\n",
    "    # The predicted class is the one with the highest combined score\n",
    "    return class_scores"
   ]
  },
  {
   "cell_type": "code",
   "execution_count": 298,
   "id": "228030d5",
   "metadata": {},
   "outputs": [
    {
     "name": "stdout",
     "output_type": "stream",
     "text": [
      "Sample EEG tensor shape: torch.Size([8, 1750])\n",
      "Sample label: Left, frequency: 10.0 Hz\n"
     ]
    }
   ],
   "source": [
    "eeg_tensor, label = train_dataset[1]\n",
    "print(f\"Sample EEG tensor shape: {eeg_tensor.shape}\")\n",
    "print(f\"Sample label: {label}, frequency: {STIM_FREQS[label]} Hz\")"
   ]
  },
  {
   "cell_type": "code",
   "execution_count": 299,
   "id": "4ec72377",
   "metadata": {},
   "outputs": [],
   "source": [
    "def extract_fbcca_features(\n",
    "    eeg_tensor,\n",
    "    all_ch_names,\n",
    "    stim_freqs,\n",
    "    sfreq,\n",
    "    n_harmonics=2,\n",
    "    n_bands=5,\n",
    "    band_width=8,\n",
    "    start_freq=6.0,\n",
    "):\n",
    "    \"\"\"\n",
    "    Calculates FBCCA scores for a single EEG trial and returns them as a feature vector.\n",
    "    This function is essentially your `correlations_with_fbcca_corrected` but returns the raw scores.\n",
    "    \"\"\"\n",
    "    class_scores = correlations_with_fbcca_corrected(\n",
    "        eeg_tensor,\n",
    "        all_ch_names,\n",
    "        stim_freqs,\n",
    "        sfreq,\n",
    "        n_harmonics,\n",
    "        n_bands,\n",
    "        band_width,\n",
    "        start_freq,\n",
    "    )\n",
    "\n",
    "    # Return the scores in a consistent order\n",
    "    feature_vector = [class_scores[label] for label in sorted(stim_freqs.keys())]\n",
    "    return np.array(feature_vector)"
   ]
  },
  {
   "cell_type": "code",
   "execution_count": 300,
   "id": "8fd49a62",
   "metadata": {},
   "outputs": [
    {
     "name": "stdout",
     "output_type": "stream",
     "text": [
      "Feature vector shape: (4, 5)\n",
      "Feature vector (<class 'numpy.ndarray'>): [[0.35357532 0.25495393 0.00505626 0.0051185  0.00333924]\n",
      " [0.42342641 0.24660115 0.00400836 0.00484216 0.0032825 ]\n",
      " [0.2807396  0.24993611 0.03366242 0.00587739 0.00348929]\n",
      " [0.1932844  0.10401011 0.29226594 0.01523484 0.00379128]]\n"
     ]
    }
   ],
   "source": [
    "# sample \n",
    "feature_vector = extract_fbcca_features(\n",
    "    eeg_tensor, CH_NAMES, STIM_FREQS, SFREQ\n",
    ")\n",
    "print(f\"Feature vector shape: {feature_vector.shape}\")\n",
    "print(f\"Feature vector ({type(feature_vector)}): {feature_vector}\")\n"
   ]
  },
  {
   "cell_type": "code",
   "execution_count": 302,
   "id": "419289cf",
   "metadata": {},
   "outputs": [
    {
     "name": "stderr",
     "output_type": "stream",
     "text": [
      "100%|██████████| 2400/2400 [04:49<00:00,  8.29it/s]"
     ]
    },
    {
     "name": "stdout",
     "output_type": "stream",
     "text": [
      "X_train shape: (2400, 20), y_train shape: (2400,)\n"
     ]
    },
    {
     "name": "stderr",
     "output_type": "stream",
     "text": [
      "\n"
     ]
    }
   ],
   "source": [
    "X_train = []\n",
    "y_train = []\n",
    "for i in tqdm(range(len(train_dataset))):\n",
    "    eeg_tensor, label = train_dataset[i]\n",
    "    class_scores = extract_fbcca_features(\n",
    "        eeg_tensor,\n",
    "        CH_NAMES,\n",
    "        STIM_FREQS,\n",
    "        SFREQ,\n",
    "        n_harmonics=2,\n",
    "        n_bands=5,\n",
    "        band_width=8,\n",
    "        start_freq=6.0,\n",
    "    )\n",
    "    X_train.append(class_scores.flatten())\n",
    "    y_train.append(label_encoder.transform([label])[0])  # type: ignore # Encode label\n",
    "\n",
    "X_train = np.array(X_train)\n",
    "y_train = np.array(y_train)\n",
    "print(f\"X_train shape: {X_train.shape}, y_train shape: {y_train.shape}\")"
   ]
  },
  {
   "cell_type": "code",
   "execution_count": 280,
   "id": "5f78ee00",
   "metadata": {},
   "outputs": [
    {
     "name": "stdout",
     "output_type": "stream",
     "text": [
      "X_train shape: (2400, 20), y_train shape: (2400,)\n"
     ]
    }
   ],
   "source": [
    "print(f\"X_train shape: {X_train.shape}, y_train shape: {y_train.shape}\")"
   ]
  },
  {
   "cell_type": "code",
   "execution_count": 303,
   "id": "bbf3ecf8",
   "metadata": {},
   "outputs": [
    {
     "name": "stderr",
     "output_type": "stream",
     "text": [
      "  2%|▏         | 1/50 [00:00<00:07,  6.19it/s]"
     ]
    },
    {
     "name": "stderr",
     "output_type": "stream",
     "text": [
      "100%|██████████| 50/50 [00:06<00:00,  7.34it/s]"
     ]
    },
    {
     "name": "stdout",
     "output_type": "stream",
     "text": [
      "X_validation shape: (50, 20), y_validation shape: (50,)\n"
     ]
    },
    {
     "name": "stderr",
     "output_type": "stream",
     "text": [
      "\n"
     ]
    }
   ],
   "source": [
    "X_validation = []\n",
    "y_validation = []\n",
    "for i in tqdm(range(len(validation_dataset))):\n",
    "    eeg_tensor, label = validation_dataset[i]\n",
    "    # Extract FBCCA features\n",
    "    class_scores = extract_fbcca_features(\n",
    "        eeg_tensor,\n",
    "        CH_NAMES,\n",
    "        STIM_FREQS,\n",
    "        SFREQ,\n",
    "        n_harmonics=2,\n",
    "        n_bands=5,\n",
    "        band_width=8,\n",
    "        start_freq=6.0,\n",
    "    )\n",
    "    X_validation.append(class_scores.flatten())\n",
    "    y_validation.append(label_encoder.transform([label])[0])  # type: ignore # Encode label\n",
    "X_validation = np.array(X_validation)\n",
    "y_validation = np.array(y_validation)\n",
    "print(\n",
    "    f\"X_validation shape: {X_validation.shape}, y_validation shape: {y_validation.shape}\"\n",
    ")"
   ]
  },
  {
   "cell_type": "code",
   "execution_count": 281,
   "id": "9bf01b95",
   "metadata": {},
   "outputs": [
    {
     "name": "stdout",
     "output_type": "stream",
     "text": [
      "Training accuracy: 0.6663\n",
      "Validation accuracy: 0.4600\n"
     ]
    }
   ],
   "source": [
    "# SVM\n",
    "from sklearn.svm import SVC\n",
    "\n",
    "# Train a simple SVM classifier\n",
    "svm_classifier = SVC(kernel=\"linear\", probability=True)\n",
    "svm_classifier.fit(X_train, y_train)\n",
    "# Evaluate on validation set\n",
    "train_accuracy = svm_classifier.score(X_train, y_train)\n",
    "validation_accuracy = svm_classifier.score(X_validation, y_validation)\n",
    "print(f\"Training accuracy: {train_accuracy:.4f}\")\n",
    "print(f\"Validation accuracy: {validation_accuracy:.4f}\")"
   ]
  },
  {
   "cell_type": "code",
   "execution_count": 100,
   "id": "411a91f0",
   "metadata": {},
   "outputs": [
    {
     "name": "stdout",
     "output_type": "stream",
     "text": [
      "KNN Training accuracy: 0.6958\n",
      "KNN Validation accuracy: 0.5200\n"
     ]
    }
   ],
   "source": [
    "# KNN \n",
    "from sklearn.neighbors import KNeighborsClassifier\n",
    "# Train a KNN classifier\n",
    "knn_classifier = KNeighborsClassifier(n_neighbors=9, n_jobs=-1)\n",
    "knn_classifier.fit(X_train, y_train)\n",
    "# Evaluate on validation set\n",
    "train_accuracy_knn = knn_classifier.score(X_train, y_train)\n",
    "validation_accuracy_knn = knn_classifier.score(X_validation, y_validation)\n",
    "print(f\"KNN Training accuracy: {train_accuracy_knn:.4f}\")\n",
    "print(f\"KNN Validation accuracy: {validation_accuracy_knn:.4f}\")"
   ]
  },
  {
   "cell_type": "code",
   "execution_count": 101,
   "id": "249408a6",
   "metadata": {},
   "outputs": [
    {
     "name": "stdout",
     "output_type": "stream",
     "text": [
      "KNN (k=1): 1.0000  |  0.4000\n",
      "KNN (k=3): 0.7471  |  0.4400\n",
      "KNN (k=5): 0.7267  |  0.4800\n",
      "KNN (k=7): 0.7050  |  0.4200\n",
      "KNN (k=9): 0.6958  |  0.5200\n",
      "KNN (k=11): 0.6875  |  0.4600\n",
      "KNN (k=13): 0.6892  |  0.4800\n"
     ]
    }
   ],
   "source": [
    "for i in range(1, 15, 2):\n",
    "    knn_classifier = KNeighborsClassifier(n_neighbors=i, n_jobs=-1)\n",
    "    knn_classifier.fit(X_train, y_train)\n",
    "    train_accuracy_knn = knn_classifier.score(X_train, y_train)\n",
    "    validation_accuracy_knn = knn_classifier.score(X_validation, y_validation)\n",
    "    print(f\"KNN (k={i}): {train_accuracy_knn:.4f}  |  {validation_accuracy_knn:.4f}\")"
   ]
  },
  {
   "cell_type": "code",
   "execution_count": 104,
   "id": "a3a9ffff",
   "metadata": {},
   "outputs": [
    {
     "name": "stdout",
     "output_type": "stream",
     "text": [
      "Random Forest Training accuracy: 0.8467\n",
      "Random Forest Validation accuracy: 0.5200\n"
     ]
    }
   ],
   "source": [
    "# Random Forest\n",
    "from sklearn.ensemble import RandomForestClassifier\n",
    "# Train a Random Forest classifier\n",
    "rf_classifier = RandomForestClassifier(n_estimators=150, n_jobs=-1, random_state=42, max_depth=9)\n",
    "rf_classifier.fit(X_train, y_train)\n",
    "# Evaluate on validation set\n",
    "train_accuracy_rf = rf_classifier.score(X_train, y_train)\n",
    "validation_accuracy_rf = rf_classifier.score(X_validation, y_validation)\n",
    "print(f\"Random Forest Training accuracy: {train_accuracy_rf:.4f}\")\n",
    "print(f\"Random Forest Validation accuracy: {validation_accuracy_rf:.4f}\")"
   ]
  },
  {
   "cell_type": "code",
   "execution_count": 282,
   "id": "9962355d",
   "metadata": {},
   "outputs": [
    {
     "name": "stdout",
     "output_type": "stream",
     "text": [
      "Random Forest (max_depth=3): 0.6400  |  0.4200\n",
      "Random Forest (max_depth=4): 0.6592  |  0.4400\n",
      "Random Forest (max_depth=5): 0.6800  |  0.4600\n",
      "Random Forest (max_depth=6): 0.7092  |  0.4800\n",
      "Random Forest (max_depth=7): 0.7483  |  0.5200\n",
      "Random Forest (max_depth=8): 0.7883  |  0.5000\n",
      "Random Forest (max_depth=9): 0.8504  |  0.5200\n"
     ]
    }
   ],
   "source": [
    "for i in range(3, 10):\n",
    "    rf_classifier = RandomForestClassifier(\n",
    "        n_estimators=170, n_jobs=-1, random_state=42, max_depth=i\n",
    "    )\n",
    "    rf_classifier.fit(X_train, y_train)\n",
    "    train_accuracy_rf = rf_classifier.score(X_train, y_train)\n",
    "    validation_accuracy_rf = rf_classifier.score(X_validation, y_validation)\n",
    "    print(\n",
    "        f\"Random Forest (max_depth={i}): {train_accuracy_rf:.4f}  |  {validation_accuracy_rf:.4f}\"\n",
    "    )"
   ]
  },
  {
   "cell_type": "code",
   "execution_count": 105,
   "id": "936dc916",
   "metadata": {},
   "outputs": [
    {
     "name": "stdout",
     "output_type": "stream",
     "text": [
      "XGBoost Training accuracy: 0.8304\n",
      "XGBoost Validation accuracy: 0.4400\n"
     ]
    }
   ],
   "source": [
    "# XGBoost\n",
    "from xgboost import XGBClassifier\n",
    "\n",
    "# Train an XGBoost classifier\n",
    "xgb_classifier = XGBClassifier(\n",
    "    use_label_encoder=False, eval_metric=\"mlogloss\", n_jobs=-1, random_state=42,\n",
    "    n_estimators=20, max_depth=7, learning_rate=0.1, subsample=0.4, colsample_bytree=0.8\n",
    ")\n",
    "xgb_classifier.fit(X_train, y_train)\n",
    "# Evaluate on validation set\n",
    "train_accuracy_xgb = xgb_classifier.score(X_train, y_train)\n",
    "validation_accuracy_xgb = xgb_classifier.score(X_validation, y_validation)\n",
    "print(f\"XGBoost Training accuracy: {train_accuracy_xgb:.4f}\")\n",
    "print(f\"XGBoost Validation accuracy: {validation_accuracy_xgb:.4f}\")"
   ]
  },
  {
   "cell_type": "code",
   "execution_count": null,
   "id": "50aa7e53",
   "metadata": {},
   "outputs": [
    {
     "name": "stdout",
     "output_type": "stream",
     "text": [
      "Random Forest (n_estimators=10, max_depth=4): 0.6450  |  0.4600 Best so far:  None\n",
      "Random Forest (n_estimators=10, max_depth=5): 0.6663  |  0.4600 Best so far:  0.46\n",
      "Random Forest (n_estimators=10, max_depth=6): 0.7000  |  0.4800 Best so far:  0.46\n",
      "Random Forest (n_estimators=10, max_depth=7): 0.7362  |  0.4800 Best so far:  0.48\n",
      "Random Forest (n_estimators=10, max_depth=8): 0.7667  |  0.4200 Best so far:  0.48\n",
      "Random Forest (n_estimators=10, max_depth=9): 0.8050  |  0.4600 Best so far:  0.48\n",
      "Random Forest (n_estimators=20, max_depth=4): 0.6575  |  0.4600 Best so far:  0.48\n",
      "Random Forest (n_estimators=20, max_depth=5): 0.6742  |  0.4600 Best so far:  0.48\n",
      "Random Forest (n_estimators=20, max_depth=6): 0.7113  |  0.4800 Best so far:  0.48\n",
      "Random Forest (n_estimators=20, max_depth=7): 0.7454  |  0.4400 Best so far:  0.48\n",
      "Random Forest (n_estimators=20, max_depth=8): 0.7908  |  0.5000 Best so far:  0.48\n",
      "Random Forest (n_estimators=20, max_depth=9): 0.8163  |  0.4600 Best so far:  0.5\n",
      "Random Forest (n_estimators=30, max_depth=4): 0.6604  |  0.4600 Best so far:  0.5\n",
      "Random Forest (n_estimators=30, max_depth=5): 0.6763  |  0.4800 Best so far:  0.5\n",
      "Random Forest (n_estimators=30, max_depth=6): 0.7050  |  0.4800 Best so far:  0.5\n",
      "Random Forest (n_estimators=30, max_depth=7): 0.7558  |  0.4800 Best so far:  0.5\n",
      "Random Forest (n_estimators=30, max_depth=8): 0.7917  |  0.5400 Best so far:  0.5\n",
      "Random Forest (n_estimators=30, max_depth=9): 0.8292  |  0.5200 Best so far:  0.54\n",
      "Random Forest (n_estimators=40, max_depth=4): 0.6542  |  0.4400 Best so far:  0.54\n",
      "Random Forest (n_estimators=40, max_depth=5): 0.6808  |  0.4600 Best so far:  0.54\n",
      "Random Forest (n_estimators=40, max_depth=6): 0.7121  |  0.5200 Best so far:  0.54\n",
      "Random Forest (n_estimators=40, max_depth=7): 0.7571  |  0.4800 Best so far:  0.54\n",
      "Random Forest (n_estimators=40, max_depth=8): 0.7892  |  0.5200 Best so far:  0.54\n",
      "Random Forest (n_estimators=40, max_depth=9): 0.8396  |  0.5000 Best so far:  0.54\n",
      "Random Forest (n_estimators=50, max_depth=4): 0.6579  |  0.4400 Best so far:  0.54\n",
      "Random Forest (n_estimators=50, max_depth=5): 0.6737  |  0.4600 Best so far:  0.54\n",
      "Random Forest (n_estimators=50, max_depth=6): 0.7113  |  0.4800 Best so far:  0.54\n",
      "Random Forest (n_estimators=50, max_depth=7): 0.7554  |  0.4800 Best so far:  0.54\n",
      "Random Forest (n_estimators=50, max_depth=8): 0.7946  |  0.5200 Best so far:  0.54\n",
      "Random Forest (n_estimators=50, max_depth=9): 0.8375  |  0.4800 Best so far:  0.54\n",
      "Random Forest (n_estimators=60, max_depth=4): 0.6587  |  0.4400 Best so far:  0.54\n",
      "Random Forest (n_estimators=60, max_depth=5): 0.6729  |  0.4600 Best so far:  0.54\n",
      "Random Forest (n_estimators=60, max_depth=6): 0.7100  |  0.5200 Best so far:  0.54\n",
      "Random Forest (n_estimators=60, max_depth=7): 0.7579  |  0.5000 Best so far:  0.54\n",
      "Random Forest (n_estimators=60, max_depth=8): 0.7921  |  0.5000 Best so far:  0.54\n",
      "Random Forest (n_estimators=60, max_depth=9): 0.8400  |  0.5000 Best so far:  0.54\n",
      "Random Forest (n_estimators=70, max_depth=4): 0.6558  |  0.4400 Best so far:  0.54\n",
      "Random Forest (n_estimators=70, max_depth=5): 0.6771  |  0.4800 Best so far:  0.54\n",
      "Random Forest (n_estimators=70, max_depth=6): 0.7113  |  0.5200 Best so far:  0.54\n",
      "Random Forest (n_estimators=70, max_depth=7): 0.7533  |  0.5000 Best so far:  0.54\n",
      "Random Forest (n_estimators=70, max_depth=8): 0.7900  |  0.5200 Best so far:  0.54\n",
      "Random Forest (n_estimators=70, max_depth=9): 0.8438  |  0.4400 Best so far:  0.54\n",
      "Random Forest (n_estimators=80, max_depth=4): 0.6492  |  0.4600 Best so far:  0.54\n",
      "Random Forest (n_estimators=80, max_depth=5): 0.6813  |  0.4800 Best so far:  0.54\n",
      "Random Forest (n_estimators=80, max_depth=6): 0.7121  |  0.5000 Best so far:  0.54\n",
      "Random Forest (n_estimators=80, max_depth=7): 0.7550  |  0.5200 Best so far:  0.54\n",
      "Random Forest (n_estimators=80, max_depth=8): 0.7925  |  0.5400 Best so far:  0.54\n",
      "Random Forest (n_estimators=80, max_depth=9): 0.8442  |  0.4400 Best so far:  0.54\n",
      "Random Forest (n_estimators=90, max_depth=4): 0.6525  |  0.4600 Best so far:  0.54\n",
      "Random Forest (n_estimators=90, max_depth=5): 0.6846  |  0.4800 Best so far:  0.54\n",
      "Random Forest (n_estimators=90, max_depth=6): 0.7150  |  0.5200 Best so far:  0.54\n",
      "Random Forest (n_estimators=90, max_depth=7): 0.7529  |  0.5200 Best so far:  0.54\n",
      "Random Forest (n_estimators=90, max_depth=8): 0.7937  |  0.5000 Best so far:  0.54\n",
      "Random Forest (n_estimators=90, max_depth=9): 0.8471  |  0.4600 Best so far:  0.54\n",
      "Random Forest (n_estimators=100, max_depth=4): 0.6533  |  0.4600 Best so far:  0.54\n",
      "Random Forest (n_estimators=100, max_depth=5): 0.6804  |  0.4800 Best so far:  0.54\n",
      "Random Forest (n_estimators=100, max_depth=6): 0.7129  |  0.5200 Best so far:  0.54\n",
      "Random Forest (n_estimators=100, max_depth=7): 0.7554  |  0.5200 Best so far:  0.54\n",
      "Random Forest (n_estimators=100, max_depth=8): 0.7937  |  0.5000 Best so far:  0.54\n",
      "Random Forest (n_estimators=100, max_depth=9): 0.8500  |  0.4800 Best so far:  0.54\n",
      "Random Forest (n_estimators=110, max_depth=4): 0.6558  |  0.4400 Best so far:  0.54\n",
      "Random Forest (n_estimators=110, max_depth=5): 0.6779  |  0.5000 Best so far:  0.54\n",
      "Random Forest (n_estimators=110, max_depth=6): 0.7125  |  0.5200 Best so far:  0.54\n",
      "Random Forest (n_estimators=110, max_depth=7): 0.7529  |  0.5200 Best so far:  0.54\n",
      "Random Forest (n_estimators=110, max_depth=8): 0.7971  |  0.5000 Best so far:  0.54\n",
      "Random Forest (n_estimators=110, max_depth=9): 0.8512  |  0.4800 Best so far:  0.54\n",
      "Random Forest (n_estimators=120, max_depth=4): 0.6525  |  0.4400 Best so far:  0.54\n",
      "Random Forest (n_estimators=120, max_depth=5): 0.6817  |  0.5000 Best so far:  0.54\n",
      "Random Forest (n_estimators=120, max_depth=6): 0.7092  |  0.5000 Best so far:  0.54\n",
      "Random Forest (n_estimators=120, max_depth=7): 0.7517  |  0.5400 Best so far:  0.54\n",
      "Random Forest (n_estimators=120, max_depth=8): 0.7971  |  0.5000 Best so far:  0.54\n",
      "Random Forest (n_estimators=120, max_depth=9): 0.8533  |  0.5000 Best so far:  0.54\n",
      "Random Forest (n_estimators=130, max_depth=4): 0.6575  |  0.4600 Best so far:  0.54\n",
      "Random Forest (n_estimators=130, max_depth=5): 0.6825  |  0.5000 Best so far:  0.54\n",
      "Random Forest (n_estimators=130, max_depth=6): 0.7113  |  0.5200 Best so far:  0.54\n",
      "Random Forest (n_estimators=130, max_depth=7): 0.7546  |  0.5400 Best so far:  0.54\n",
      "Random Forest (n_estimators=130, max_depth=8): 0.7975  |  0.4800 Best so far:  0.54\n",
      "Random Forest (n_estimators=130, max_depth=9): 0.8525  |  0.4800 Best so far:  0.54\n",
      "Random Forest (n_estimators=140, max_depth=4): 0.6508  |  0.4600 Best so far:  0.54\n",
      "Random Forest (n_estimators=140, max_depth=5): 0.6825  |  0.5000 Best so far:  0.54\n",
      "Random Forest (n_estimators=140, max_depth=6): 0.7108  |  0.5200 Best so far:  0.54\n",
      "Random Forest (n_estimators=140, max_depth=7): 0.7533  |  0.5200 Best so far:  0.54\n",
      "Random Forest (n_estimators=140, max_depth=8): 0.7942  |  0.5200 Best so far:  0.54\n",
      "Random Forest (n_estimators=140, max_depth=9): 0.8529  |  0.5000 Best so far:  0.54\n",
      "Random Forest (n_estimators=150, max_depth=4): 0.6546  |  0.4600 Best so far:  0.54\n",
      "Random Forest (n_estimators=150, max_depth=5): 0.6821  |  0.5000 Best so far:  0.54\n",
      "Random Forest (n_estimators=150, max_depth=6): 0.7121  |  0.5200 Best so far:  0.54\n",
      "Random Forest (n_estimators=150, max_depth=7): 0.7512  |  0.5200 Best so far:  0.54\n",
      "Random Forest (n_estimators=150, max_depth=8): 0.7950  |  0.5200 Best so far:  0.54\n",
      "Random Forest (n_estimators=150, max_depth=9): 0.8538  |  0.5000 Best so far:  0.54\n",
      "Random Forest (n_estimators=160, max_depth=4): 0.6571  |  0.4400 Best so far:  0.54\n",
      "Random Forest (n_estimators=160, max_depth=5): 0.6808  |  0.5000 Best so far:  0.54\n",
      "Random Forest (n_estimators=160, max_depth=6): 0.7113  |  0.5200 Best so far:  0.54\n",
      "Random Forest (n_estimators=160, max_depth=7): 0.7496  |  0.5200 Best so far:  0.54\n",
      "Random Forest (n_estimators=160, max_depth=8): 0.7892  |  0.4800 Best so far:  0.54\n",
      "Random Forest (n_estimators=160, max_depth=9): 0.8533  |  0.5000 Best so far:  0.54\n",
      "Random Forest (n_estimators=170, max_depth=4): 0.6575  |  0.4600 Best so far:  0.54\n",
      "Random Forest (n_estimators=170, max_depth=5): 0.6813  |  0.5000 Best so far:  0.54\n",
      "Random Forest (n_estimators=170, max_depth=6): 0.7133  |  0.5200 Best so far:  0.54\n",
      "Random Forest (n_estimators=170, max_depth=7): 0.7500  |  0.5200 Best so far:  0.54\n",
      "Random Forest (n_estimators=170, max_depth=8): 0.7929  |  0.4800 Best so far:  0.54\n",
      "Random Forest (n_estimators=170, max_depth=9): 0.8546  |  0.5000 Best so far:  0.54\n",
      "Random Forest (n_estimators=180, max_depth=4): 0.6592  |  0.4600 Best so far:  0.54\n",
      "Random Forest (n_estimators=180, max_depth=5): 0.6846  |  0.5000 Best so far:  0.54\n",
      "Random Forest (n_estimators=180, max_depth=6): 0.7142  |  0.5200 Best so far:  0.54\n",
      "Random Forest (n_estimators=180, max_depth=7): 0.7542  |  0.5200 Best so far:  0.54\n",
      "Random Forest (n_estimators=180, max_depth=8): 0.7954  |  0.5000 Best so far:  0.54\n",
      "Random Forest (n_estimators=180, max_depth=9): 0.8533  |  0.5000 Best so far:  0.54\n",
      "Random Forest (n_estimators=190, max_depth=4): 0.6579  |  0.4600 Best so far:  0.54\n",
      "Random Forest (n_estimators=190, max_depth=5): 0.6846  |  0.5000 Best so far:  0.54\n",
      "Random Forest (n_estimators=190, max_depth=6): 0.7146  |  0.5000 Best so far:  0.54\n",
      "Random Forest (n_estimators=190, max_depth=7): 0.7546  |  0.5200 Best so far:  0.54\n",
      "Random Forest (n_estimators=190, max_depth=8): 0.7942  |  0.5200 Best so far:  0.54\n",
      "Random Forest (n_estimators=190, max_depth=9): 0.8517  |  0.5000 Best so far:  0.54\n",
      "Random Forest (n_estimators=200, max_depth=4): 0.6587  |  0.4600 Best so far:  0.54\n",
      "Random Forest (n_estimators=200, max_depth=5): 0.6850  |  0.4400 Best so far:  0.54\n",
      "Random Forest (n_estimators=200, max_depth=6): 0.7158  |  0.5000 Best so far:  0.54\n",
      "Random Forest (n_estimators=200, max_depth=7): 0.7529  |  0.5000 Best so far:  0.54\n",
      "Random Forest (n_estimators=200, max_depth=8): 0.7942  |  0.5200 Best so far:  0.54\n",
      "Random Forest (n_estimators=200, max_depth=9): 0.8542  |  0.5000 Best so far:  0.54\n",
      "Best Random Forest model: RandomForestClassifier(max_depth=8, n_estimators=30, n_jobs=-1, random_state=42)\n",
      "Best Training accuracy: 0.7917\n",
      "Best Validation accuracy: 0.5400\n"
     ]
    }
   ],
   "source": [
    "best = None\n",
    "for i in range(10, 210, 10):\n",
    "    for j in range(4, 10):\n",
    "        rf_classifier = RandomForestClassifier(\n",
    "            n_estimators=i, n_jobs=-1, random_state=42, max_depth=j\n",
    "        )\n",
    "        rf_classifier.fit(X_train, y_train)\n",
    "        train_accuracy_rf = rf_classifier.score(X_train, y_train)\n",
    "        validation_accuracy_rf = rf_classifier.score(X_validation, y_validation)\n",
    "        print(\n",
    "            f\"Random Forest (n_estimators={i}, max_depth={j}): {train_accuracy_rf:.4f}  |  {validation_accuracy_rf:.4f}\",\n",
    "            \"Best so far: \",\n",
    "            best[-1] if best else \"None\",\n",
    "        )\n",
    "        if best is None or validation_accuracy_rf > best[-1]:\n",
    "            best = (rf_classifier, train_accuracy_rf, validation_accuracy_rf)\n"
   ]
  },
  {
   "cell_type": "code",
   "execution_count": 106,
   "id": "c874c21c",
   "metadata": {},
   "outputs": [
    {
     "ename": "NameError",
     "evalue": "name 'best' is not defined",
     "output_type": "error",
     "traceback": [
      "\u001b[1;31m---------------------------------------------------------------------------\u001b[0m",
      "\u001b[1;31mNameError\u001b[0m                                 Traceback (most recent call last)",
      "Cell \u001b[1;32mIn[106], line 1\u001b[0m\n\u001b[1;32m----> 1\u001b[0m \u001b[38;5;28mprint\u001b[39m(\u001b[38;5;124mf\u001b[39m\u001b[38;5;124m\"\u001b[39m\u001b[38;5;124mBest Random Forest model: \u001b[39m\u001b[38;5;132;01m{\u001b[39;00m\u001b[43mbest\u001b[49m[\u001b[38;5;241m0\u001b[39m]\u001b[38;5;132;01m}\u001b[39;00m\u001b[38;5;124m\"\u001b[39m)\n\u001b[0;32m      2\u001b[0m \u001b[38;5;28mprint\u001b[39m(\u001b[38;5;124mf\u001b[39m\u001b[38;5;124m\"\u001b[39m\u001b[38;5;124mBest Training accuracy: \u001b[39m\u001b[38;5;132;01m{\u001b[39;00mbest[\u001b[38;5;241m1\u001b[39m]\u001b[38;5;132;01m:\u001b[39;00m\u001b[38;5;124m.4f\u001b[39m\u001b[38;5;132;01m}\u001b[39;00m\u001b[38;5;124m\"\u001b[39m)\n\u001b[0;32m      3\u001b[0m \u001b[38;5;28mprint\u001b[39m(\u001b[38;5;124mf\u001b[39m\u001b[38;5;124m\"\u001b[39m\u001b[38;5;124mBest Validation accuracy: \u001b[39m\u001b[38;5;132;01m{\u001b[39;00mbest[\u001b[38;5;241m2\u001b[39m]\u001b[38;5;132;01m:\u001b[39;00m\u001b[38;5;124m.4f\u001b[39m\u001b[38;5;132;01m}\u001b[39;00m\u001b[38;5;124m\"\u001b[39m)\n",
      "\u001b[1;31mNameError\u001b[0m: name 'best' is not defined"
     ]
    }
   ],
   "source": [
    "print(f\"Best Random Forest model: {best[0]}\")\n",
    "print(f\"Best Training accuracy: {best[1]:.4f}\")\n",
    "print(f\"Best Validation accuracy: {best[2]:.4f}\")"
   ]
  },
  {
   "cell_type": "code",
   "execution_count": 30,
   "id": "8a447291",
   "metadata": {},
   "outputs": [
    {
     "name": "stderr",
     "output_type": "stream",
     "text": [
      " 97%|█████████▋| 30/31 [00:04<00:00,  6.46it/s]"
     ]
    },
    {
     "name": "stdout",
     "output_type": "stream",
     "text": [
      "[LightGBM] [Info] Auto-choosing row-wise multi-threading, the overhead of testing was 0.001333 seconds.\n",
      "You can set `force_row_wise=true` to remove the overhead.\n",
      "And if memory is not enough, you can set `force_col_wise=true`.\n",
      "[LightGBM] [Info] Total Bins 5100\n",
      "[LightGBM] [Info] Number of data points in the train set: 2400, number of used features: 20\n",
      "[LightGBM] [Info] Start training from score -1.328025\n",
      "[LightGBM] [Info] Start training from score -1.420196\n",
      "[LightGBM] [Info] Start training from score -1.411612\n",
      "[LightGBM] [Info] Start training from score -1.387962\n"
     ]
    },
    {
     "name": "stderr",
     "output_type": "stream",
     "text": [
      "100%|██████████| 31/31 [00:04<00:00,  6.66it/s]"
     ]
    },
    {
     "name": "stdout",
     "output_type": "stream",
     "text": [
      "                               Accuracy  Balanced Accuracy ROC AUC  F1 Score  \\\n",
      "Model                                                                          \n",
      "AdaBoostClassifier                 0.50               0.51    None      0.49   \n",
      "BernoulliNB                        0.50               0.50    None      0.49   \n",
      "RandomForestClassifier             0.46               0.47    None      0.46   \n",
      "XGBClassifier                      0.46               0.46    None      0.47   \n",
      "NearestCentroid                    0.46               0.45    None      0.45   \n",
      "LGBMClassifier                     0.44               0.45    None      0.43   \n",
      "LogisticRegression                 0.44               0.43    None      0.44   \n",
      "RidgeClassifierCV                  0.44               0.43    None      0.42   \n",
      "RidgeClassifier                    0.44               0.43    None      0.42   \n",
      "DecisionTreeClassifier             0.42               0.43    None      0.42   \n",
      "ExtraTreesClassifier               0.42               0.42    None      0.40   \n",
      "LinearSVC                          0.42               0.41    None      0.42   \n",
      "CalibratedClassifierCV             0.42               0.41    None      0.42   \n",
      "LinearDiscriminantAnalysis         0.42               0.41    None      0.41   \n",
      "GaussianNB                         0.40               0.40    None      0.41   \n",
      "BaggingClassifier                  0.40               0.40    None      0.40   \n",
      "Perceptron                         0.38               0.38    None      0.37   \n",
      "ExtraTreeClassifier                0.38               0.36    None      0.38   \n",
      "KNeighborsClassifier               0.36               0.36    None      0.32   \n",
      "SGDClassifier                      0.36               0.35    None      0.37   \n",
      "NuSVC                              0.34               0.33    None      0.33   \n",
      "LabelSpreading                     0.32               0.32    None      0.31   \n",
      "LabelPropagation                   0.32               0.32    None      0.31   \n",
      "QuadraticDiscriminantAnalysis      0.32               0.32    None      0.33   \n",
      "SVC                                0.32               0.31    None      0.31   \n",
      "PassiveAggressiveClassifier        0.28               0.29    None      0.26   \n",
      "DummyClassifier                    0.28               0.25    None      0.12   \n",
      "\n",
      "                               Time Taken  \n",
      "Model                                      \n",
      "AdaBoostClassifier                   0.45  \n",
      "BernoulliNB                          0.02  \n",
      "RandomForestClassifier               0.82  \n",
      "XGBClassifier                        0.64  \n",
      "NearestCentroid                      0.02  \n",
      "LGBMClassifier                       0.45  \n",
      "LogisticRegression                   0.03  \n",
      "RidgeClassifierCV                    0.21  \n",
      "RidgeClassifier                      0.02  \n",
      "DecisionTreeClassifier               0.06  \n",
      "ExtraTreesClassifier                 0.30  \n",
      "LinearSVC                            0.03  \n",
      "CalibratedClassifierCV               0.12  \n",
      "LinearDiscriminantAnalysis           0.11  \n",
      "GaussianNB                           0.01  \n",
      "BaggingClassifier                    0.37  \n",
      "Perceptron                           0.01  \n",
      "ExtraTreeClassifier                  0.01  \n",
      "KNeighborsClassifier                 0.02  \n",
      "SGDClassifier                        0.03  \n",
      "NuSVC                                0.21  \n",
      "LabelSpreading                       0.27  \n",
      "LabelPropagation                     0.22  \n",
      "QuadraticDiscriminantAnalysis        0.02  \n",
      "SVC                                  0.15  \n",
      "PassiveAggressiveClassifier          0.02  \n",
      "DummyClassifier                      0.01  \n"
     ]
    },
    {
     "name": "stderr",
     "output_type": "stream",
     "text": [
      "\n"
     ]
    }
   ],
   "source": [
    "# lazy classifier\n",
    "from lazypredict.Supervised import LazyClassifier, LazyRegressor\n",
    "\n",
    "lazy_classifier = LazyClassifier(\n",
    "    ignore_warnings=True,\n",
    "    custom_metric=None,\n",
    "    random_state=42,\n",
    ")\n",
    "\n",
    "# Fit the lazy classifier\n",
    "models, predictions = lazy_classifier.fit(X_train, X_validation, y_train, y_validation)\n",
    "# Display the results\n",
    "print(models)"
   ]
  },
  {
   "cell_type": "code",
   "execution_count": 107,
   "id": "c91d3d60",
   "metadata": {},
   "outputs": [
    {
     "name": "stdout",
     "output_type": "stream",
     "text": [
      "AdaBoost Training accuracy: 0.6592\n",
      "AdaBoost Validation accuracy: 0.4400\n"
     ]
    }
   ],
   "source": [
    "# adaboost\n",
    "from sklearn.ensemble import AdaBoostClassifier\n",
    "# Train an AdaBoost classifier\n",
    "ada_classifier = AdaBoostClassifier(\n",
    "    n_estimators=60, random_state=42, learning_rate=0.1\n",
    ")\n",
    "ada_classifier.fit(X_train, y_train)\n",
    "# Evaluate on validation set\n",
    "train_accuracy_ada = ada_classifier.score(X_train, y_train)\n",
    "validation_accuracy_ada = ada_classifier.score(X_validation, y_validation)\n",
    "print(f\"AdaBoost Training accuracy: {train_accuracy_ada:.4f}\")\n",
    "print(f\"AdaBoost Validation accuracy: {validation_accuracy_ada:.4f}\")"
   ]
  },
  {
   "cell_type": "code",
   "execution_count": 108,
   "id": "7d9da4f3",
   "metadata": {},
   "outputs": [
    {
     "name": "stdout",
     "output_type": "stream",
     "text": [
      "Ridge Classifier Training accuracy: 0.6675\n",
      "Ridge Classifier Validation accuracy: 0.4800\n"
     ]
    }
   ],
   "source": [
    "# ridge\n",
    "from sklearn.linear_model import RidgeClassifier\n",
    "# Train a Ridge Classifier\n",
    "ridge_classifier = RidgeClassifier(alpha=1.0, random_state=42)\n",
    "ridge_classifier.fit(X_train, y_train)\n",
    "# Evaluate on validation set\n",
    "train_accuracy_ridge = ridge_classifier.score(X_train, y_train)\n",
    "validation_accuracy_ridge = ridge_classifier.score(X_validation, y_validation)\n",
    "print(f\"Ridge Classifier Training accuracy: {train_accuracy_ridge:.4f}\")\n",
    "print(f\"Ridge Classifier Validation accuracy: {validation_accuracy_ridge:.4f}\")"
   ]
  },
  {
   "cell_type": "code",
   "execution_count": 164,
   "id": "c8cfb5eb",
   "metadata": {},
   "outputs": [
    {
     "name": "stdout",
     "output_type": "stream",
     "text": [
      "Creating RawArray with float64 data, n_channels=8, n_times=1750\n",
      "    Range : 0 ... 1749 =      0.000 ...     6.996 secs\n",
      "Ready.\n"
     ]
    }
   ],
   "source": [
    "raw = mne.io.RawArray(\n",
    "    eeg_tensor[0].numpy(),\n",
    "    mne.create_info(ch_names=CH_NAMES, sfreq=SFREQ, ch_types=[\"eeg\"] * len(CH_NAMES)),\n",
    ")"
   ]
  },
  {
   "cell_type": "code",
   "execution_count": 246,
   "id": "bce59ec2",
   "metadata": {},
   "outputs": [
    {
     "name": "stdout",
     "output_type": "stream",
     "text": [
      "Effective window size : 7.000 (s)\n",
      "Plotting power spectral density (dB=True).\n"
     ]
    },
    {
     "data": {
      "image/png": "[encoded data removed]",
      "text/plain": [
       "<MNELineFigure size 1000x350 with 1 Axes>"
      ]
     },
     "metadata": {},
     "output_type": "display_data"
    }
   ],
   "source": [
    "fig = raw.compute_psd(tmax=np.inf, fmin=8, fmax=30).plot(\n",
    "    average=True, amplitude=False, picks=\"data\", exclude=\"bads\"\n",
    ")"
   ]
  },
  {
   "cell_type": "code",
   "execution_count": 165,
   "id": "95175d71",
   "metadata": {},
   "outputs": [
    {
     "data": {
      "text/plain": [
       "[10.0, 20.0, 13.0, 26.0, 7.0, 14.0, 8.0, 16.0]"
      ]
     },
     "execution_count": 165,
     "metadata": {},
     "output_type": "execute_result"
    }
   ],
   "source": [
    "N_HARMONICS = 2 # Let's use the fundamental and the first harmonic\n",
    "\n",
    "# Create a flat list of all frequencies of interest\n",
    "freqs_of_interest = []\n",
    "for freq in STIM_FREQS.values():\n",
    "    for i in range(1, N_HARMONICS + 1):\n",
    "        freqs_of_interest.append(freq * i)\n",
    "\n",
    "freqs_of_interest"
   ]
  },
  {
   "cell_type": "code",
   "execution_count": 167,
   "id": "aaeb7870",
   "metadata": {},
   "outputs": [
    {
     "name": "stdout",
     "output_type": "stream",
     "text": [
      "Effective window size : 4.096 (s)\n"
     ]
    }
   ],
   "source": [
    "psds, freqs = raw.compute_psd(\n",
    "    method='welch', \n",
    "    fmin=1.0, \n",
    "    fmax=60, # Make sure fmax covers your highest harmonic\n",
    "    n_fft=1024 # Use a larger n_fft for better frequency resolution\n",
    ").get_data(return_freqs=True)"
   ]
  },
  {
   "cell_type": "code",
   "execution_count": 169,
   "id": "3d488aed",
   "metadata": {},
   "outputs": [
    {
     "data": {
      "text/plain": [
       "64"
      ]
     },
     "execution_count": 169,
     "metadata": {},
     "output_type": "execute_result"
    }
   ],
   "source": [
    "n_features = len(freqs_of_interest) * 8\n",
    "n_features"
   ]
  },
  {
   "cell_type": "code",
   "execution_count": 304,
   "id": "000b9a3e",
   "metadata": {},
   "outputs": [
    {
     "name": "stderr",
     "output_type": "stream",
     "text": [
      "100%|██████████| 2400/2400 [03:04<00:00, 13.03it/s]\n"
     ]
    }
   ],
   "source": [
    "X_tr = []\n",
    "y_tr = []\n",
    "with mne.utils.use_log_level(\"WARNING\"):\n",
    "    for i in tqdm(range(len(train_dataset))):\n",
    "        eeg_tensor, label = train_dataset[i]\n",
    "        raw = mne.io.RawArray(\n",
    "            eeg_tensor.numpy(),\n",
    "            mne.create_info(\n",
    "                ch_names=CH_NAMES, sfreq=SFREQ, ch_types=[\"eeg\"] * len(CH_NAMES)\n",
    "            ),\n",
    "        )\n",
    "        # Compute the PSD for the current EEG trial\n",
    "        psds, freqs = raw.compute_psd(\n",
    "            method=\"welch\",\n",
    "            fmin=1.0,\n",
    "            fmax=60,  # Ensure this covers your highest harmonic\n",
    "            n_fft=1024,  # Use a larger n_fft for better frequency resolution\n",
    "        ).get_data(return_freqs=True)\n",
    "\n",
    "        feature_vector = []\n",
    "        for freq in freqs_of_interest:\n",
    "            # Find the index of the closest frequency in the PSD\n",
    "            idx = np.argmin(np.abs(freqs - freq))\n",
    "            # Extract the power spectral density value for that frequency\n",
    "            psd_value = psds[:, idx]\n",
    "            feature_vector.extend(psd_value)\n",
    "        # Append the feature vector and label\n",
    "        X_tr.append(feature_vector)\n",
    "        y_tr.append(label_encoder.transform([label])[0])  # type:"
   ]
  },
  {
   "cell_type": "code",
   "execution_count": 305,
   "id": "44744f68",
   "metadata": {},
   "outputs": [],
   "source": [
    "X_tr = np.array(X_tr)\n",
    "y_tr = np.array(y_tr)"
   ]
  },
  {
   "cell_type": "code",
   "execution_count": 306,
   "id": "ff0e5d28",
   "metadata": {},
   "outputs": [
    {
     "name": "stdout",
     "output_type": "stream",
     "text": [
      "X_tr shape: (2400, 64), y_tr shape: (2400,)\n"
     ]
    }
   ],
   "source": [
    "print(f\"X_tr shape: {X_tr.shape}, y_tr shape: {y_tr.shape}\")"
   ]
  },
  {
   "cell_type": "code",
   "execution_count": 307,
   "id": "f32310e8",
   "metadata": {},
   "outputs": [
    {
     "name": "stderr",
     "output_type": "stream",
     "text": [
      "100%|██████████| 50/50 [00:03<00:00, 14.27it/s]"
     ]
    },
    {
     "name": "stdout",
     "output_type": "stream",
     "text": [
      "X_dev shape: (50, 64), y_dev shape: (50,)\n"
     ]
    },
    {
     "name": "stderr",
     "output_type": "stream",
     "text": [
      "\n"
     ]
    }
   ],
   "source": [
    "X_dev = []\n",
    "y_dev = []\n",
    "\n",
    "with mne.utils.use_log_level(\"WARNING\"):\n",
    "    for i in tqdm(range(len(validation_dataset))):\n",
    "        eeg_tensor, label = validation_dataset[i]\n",
    "        raw = mne.io.RawArray(\n",
    "            eeg_tensor.numpy(),\n",
    "            mne.create_info(\n",
    "                ch_names=CH_NAMES, sfreq=SFREQ, ch_types=[\"eeg\"] * len(CH_NAMES)\n",
    "            ),\n",
    "        )\n",
    "        # Compute the PSD for the current EEG trial\n",
    "        psds, freqs = raw.compute_psd(\n",
    "            method=\"welch\",\n",
    "            fmin=1.0,\n",
    "            fmax=60,  # Ensure this covers your highest harmonic\n",
    "            n_fft=1024,  # Use a larger n_fft for better frequency resolution\n",
    "        ).get_data(return_freqs=True)\n",
    "\n",
    "        feature_vector = []\n",
    "        for freq in freqs_of_interest:\n",
    "            # Find the index of the closest frequency in the PSD\n",
    "            idx = np.argmin(np.abs(freqs - freq))\n",
    "            # Extract the power spectral density value for that frequency\n",
    "            psd_value = psds[:, idx]\n",
    "            feature_vector.extend(psd_value)\n",
    "        # Append the feature vector and label\n",
    "        X_dev.append(feature_vector)\n",
    "        y_dev.append(label_encoder.transform([label])[0])  # type: ignore\n",
    "\n",
    "X_dev = np.array(X_dev)\n",
    "y_dev = np.array(y_dev)\n",
    "print(f\"X_dev shape: {X_dev.shape}, y_dev shape: {y_dev.shape}\")"
   ]
  },
  {
   "cell_type": "code",
   "execution_count": 308,
   "id": "28b845fd",
   "metadata": {},
   "outputs": [
    {
     "name": "stdout",
     "output_type": "stream",
     "text": [
      "KNN Training accuracy: 0.4404\n",
      "KNN Validation accuracy: 0.2200\n"
     ]
    }
   ],
   "source": [
    "# KNN\n",
    "knn_classifier = KNeighborsClassifier(n_neighbors=9, n_jobs=-1)\n",
    "knn_classifier.fit(X_tr, y_tr)\n",
    "# Evaluate on validation set\n",
    "train_accuracy_knn = knn_classifier.score(X_tr, y_tr)\n",
    "validation_accuracy_knn = knn_classifier.score(X_dev, y_dev)\n",
    "print(f\"KNN Training accuracy: {train_accuracy_knn:.4f}\")\n",
    "print(f\"KNN Validation accuracy: {validation_accuracy_knn:.4f}\")\n"
   ]
  },
  {
   "cell_type": "code",
   "execution_count": 309,
   "id": "df09db5f",
   "metadata": {},
   "outputs": [
    {
     "name": "stdout",
     "output_type": "stream",
     "text": [
      "KNN (k=1): 1.0000  |  0.3000\n",
      "KNN (k=3): 0.5621  |  0.2200\n",
      "KNN (k=5): 0.5042  |  0.2400\n",
      "KNN (k=7): 0.4725  |  0.3200\n",
      "KNN (k=9): 0.4404  |  0.2200\n",
      "KNN (k=11): 0.4192  |  0.0600\n",
      "KNN (k=13): 0.4138  |  0.2800\n"
     ]
    }
   ],
   "source": [
    "for k in range(1, 15, 2):\n",
    "    knn_classifier = KNeighborsClassifier(n_neighbors=k, n_jobs=-1)\n",
    "    knn_classifier.fit(X_tr, y_tr)\n",
    "    train_accuracy_knn = knn_classifier.score(X_tr, y_tr)\n",
    "    validation_accuracy_knn = knn_classifier.score(X_dev, y_dev)\n",
    "    print(f\"KNN (k={k}): {train_accuracy_knn:.4f}  |  {validation_accuracy_knn:.4f}\")"
   ]
  },
  {
   "cell_type": "code",
   "execution_count": 310,
   "id": "ebadedfd",
   "metadata": {},
   "outputs": [
    {
     "name": "stdout",
     "output_type": "stream",
     "text": [
      "Random Forest Training accuracy: 0.9883\n",
      "Random Forest Validation accuracy: 0.2400\n"
     ]
    }
   ],
   "source": [
    "# random forest\n",
    "rf_classifier = RandomForestClassifier(n_estimators=150, n_jobs=-1, random_state=42, max_depth=9)\n",
    "rf_classifier.fit(X_tr, y_tr)\n",
    "# Evaluate on validation set\n",
    "train_accuracy_rf = rf_classifier.score(X_tr, y_tr)\n",
    "validation_accuracy_rf = rf_classifier.score(X_dev, y_dev)\n",
    "print(f\"Random Forest Training accuracy: {train_accuracy_rf:.4f}\")\n",
    "print(f\"Random Forest Validation accuracy: {validation_accuracy_rf:.4f}\")"
   ]
  },
  {
   "cell_type": "code",
   "execution_count": 311,
   "id": "a6e34d78",
   "metadata": {},
   "outputs": [
    {
     "name": "stdout",
     "output_type": "stream",
     "text": [
      "Found better model: RandomForestClassifier(max_depth=3, n_estimators=10, n_jobs=-1, random_state=42) | 0.3592 | 0.3000\n",
      "Found better model: RandomForestClassifier(max_depth=4, n_estimators=40, n_jobs=-1, random_state=42) | 0.4925 | 0.3200\n"
     ]
    },
    {
     "ename": "KeyboardInterrupt",
     "evalue": "",
     "output_type": "error",
     "traceback": [
      "\u001b[1;31m---------------------------------------------------------------------------\u001b[0m",
      "\u001b[1;31mKeyboardInterrupt\u001b[0m                         Traceback (most recent call last)",
      "Cell \u001b[1;32mIn[311], line 7\u001b[0m\n\u001b[0;32m      3\u001b[0m \u001b[38;5;28;01mfor\u001b[39;00m i, j \u001b[38;5;129;01min\u001b[39;00m grid:\n\u001b[0;32m      4\u001b[0m     rf_classifier \u001b[38;5;241m=\u001b[39m RandomForestClassifier(\n\u001b[0;32m      5\u001b[0m         n_estimators\u001b[38;5;241m=\u001b[39mj, n_jobs\u001b[38;5;241m=\u001b[39m\u001b[38;5;241m-\u001b[39m\u001b[38;5;241m1\u001b[39m, random_state\u001b[38;5;241m=\u001b[39m\u001b[38;5;241m42\u001b[39m, max_depth\u001b[38;5;241m=\u001b[39mi\n\u001b[0;32m      6\u001b[0m     )\n\u001b[1;32m----> 7\u001b[0m     \u001b[43mrf_classifier\u001b[49m\u001b[38;5;241;43m.\u001b[39;49m\u001b[43mfit\u001b[49m\u001b[43m(\u001b[49m\u001b[43mX_tr\u001b[49m\u001b[43m,\u001b[49m\u001b[43m \u001b[49m\u001b[43my_tr\u001b[49m\u001b[43m)\u001b[49m\n\u001b[0;32m      8\u001b[0m     train_accuracy_rf \u001b[38;5;241m=\u001b[39m rf_classifier\u001b[38;5;241m.\u001b[39mscore(X_tr, y_tr)\n\u001b[0;32m      9\u001b[0m     validation_accuracy_rf \u001b[38;5;241m=\u001b[39m rf_classifier\u001b[38;5;241m.\u001b[39mscore(X_dev, y_dev)\n",
      "File \u001b[1;32mc:\\Users\\Ahmed Dawoud\\AppData\\Local\\Programs\\Python\\Python311\\Lib\\site-packages\\sklearn\\base.py:1473\u001b[0m, in \u001b[0;36m_fit_context.<locals>.decorator.<locals>.wrapper\u001b[1;34m(estimator, *args, **kwargs)\u001b[0m\n\u001b[0;32m   1466\u001b[0m     estimator\u001b[38;5;241m.\u001b[39m_validate_params()\n\u001b[0;32m   1468\u001b[0m \u001b[38;5;28;01mwith\u001b[39;00m config_context(\n\u001b[0;32m   1469\u001b[0m     skip_parameter_validation\u001b[38;5;241m=\u001b[39m(\n\u001b[0;32m   1470\u001b[0m         prefer_skip_nested_validation \u001b[38;5;129;01mor\u001b[39;00m global_skip_validation\n\u001b[0;32m   1471\u001b[0m     )\n\u001b[0;32m   1472\u001b[0m ):\n\u001b[1;32m-> 1473\u001b[0m     \u001b[38;5;28;01mreturn\u001b[39;00m \u001b[43mfit_method\u001b[49m\u001b[43m(\u001b[49m\u001b[43mestimator\u001b[49m\u001b[43m,\u001b[49m\u001b[43m \u001b[49m\u001b[38;5;241;43m*\u001b[39;49m\u001b[43margs\u001b[49m\u001b[43m,\u001b[49m\u001b[43m \u001b[49m\u001b[38;5;241;43m*\u001b[39;49m\u001b[38;5;241;43m*\u001b[39;49m\u001b[43mkwargs\u001b[49m\u001b[43m)\u001b[49m\n",
      "File \u001b[1;32mc:\\Users\\Ahmed Dawoud\\AppData\\Local\\Programs\\Python\\Python311\\Lib\\site-packages\\sklearn\\ensemble\\_forest.py:489\u001b[0m, in \u001b[0;36mBaseForest.fit\u001b[1;34m(self, X, y, sample_weight)\u001b[0m\n\u001b[0;32m    478\u001b[0m trees \u001b[38;5;241m=\u001b[39m [\n\u001b[0;32m    479\u001b[0m     \u001b[38;5;28mself\u001b[39m\u001b[38;5;241m.\u001b[39m_make_estimator(append\u001b[38;5;241m=\u001b[39m\u001b[38;5;28;01mFalse\u001b[39;00m, random_state\u001b[38;5;241m=\u001b[39mrandom_state)\n\u001b[0;32m    480\u001b[0m     \u001b[38;5;28;01mfor\u001b[39;00m i \u001b[38;5;129;01min\u001b[39;00m \u001b[38;5;28mrange\u001b[39m(n_more_estimators)\n\u001b[0;32m    481\u001b[0m ]\n\u001b[0;32m    483\u001b[0m \u001b[38;5;66;03m# Parallel loop: we prefer the threading backend as the Cython code\u001b[39;00m\n\u001b[0;32m    484\u001b[0m \u001b[38;5;66;03m# for fitting the trees is internally releasing the Python GIL\u001b[39;00m\n\u001b[0;32m    485\u001b[0m \u001b[38;5;66;03m# making threading more efficient than multiprocessing in\u001b[39;00m\n\u001b[0;32m    486\u001b[0m \u001b[38;5;66;03m# that case. However, for joblib 0.12+ we respect any\u001b[39;00m\n\u001b[0;32m    487\u001b[0m \u001b[38;5;66;03m# parallel_backend contexts set at a higher level,\u001b[39;00m\n\u001b[0;32m    488\u001b[0m \u001b[38;5;66;03m# since correctness does not rely on using threads.\u001b[39;00m\n\u001b[1;32m--> 489\u001b[0m trees \u001b[38;5;241m=\u001b[39m \u001b[43mParallel\u001b[49m\u001b[43m(\u001b[49m\n\u001b[0;32m    490\u001b[0m \u001b[43m    \u001b[49m\u001b[43mn_jobs\u001b[49m\u001b[38;5;241;43m=\u001b[39;49m\u001b[38;5;28;43mself\u001b[39;49m\u001b[38;5;241;43m.\u001b[39;49m\u001b[43mn_jobs\u001b[49m\u001b[43m,\u001b[49m\n\u001b[0;32m    491\u001b[0m \u001b[43m    \u001b[49m\u001b[43mverbose\u001b[49m\u001b[38;5;241;43m=\u001b[39;49m\u001b[38;5;28;43mself\u001b[39;49m\u001b[38;5;241;43m.\u001b[39;49m\u001b[43mverbose\u001b[49m\u001b[43m,\u001b[49m\n\u001b[0;32m    492\u001b[0m \u001b[43m    \u001b[49m\u001b[43mprefer\u001b[49m\u001b[38;5;241;43m=\u001b[39;49m\u001b[38;5;124;43m\"\u001b[39;49m\u001b[38;5;124;43mthreads\u001b[39;49m\u001b[38;5;124;43m\"\u001b[39;49m\u001b[43m,\u001b[49m\n\u001b[0;32m    493\u001b[0m \u001b[43m\u001b[49m\u001b[43m)\u001b[49m\u001b[43m(\u001b[49m\n\u001b[0;32m    494\u001b[0m \u001b[43m    \u001b[49m\u001b[43mdelayed\u001b[49m\u001b[43m(\u001b[49m\u001b[43m_parallel_build_trees\u001b[49m\u001b[43m)\u001b[49m\u001b[43m(\u001b[49m\n\u001b[0;32m    495\u001b[0m \u001b[43m        \u001b[49m\u001b[43mt\u001b[49m\u001b[43m,\u001b[49m\n\u001b[0;32m    496\u001b[0m \u001b[43m        \u001b[49m\u001b[38;5;28;43mself\u001b[39;49m\u001b[38;5;241;43m.\u001b[39;49m\u001b[43mbootstrap\u001b[49m\u001b[43m,\u001b[49m\n\u001b[0;32m    497\u001b[0m \u001b[43m        \u001b[49m\u001b[43mX\u001b[49m\u001b[43m,\u001b[49m\n\u001b[0;32m    498\u001b[0m \u001b[43m        \u001b[49m\u001b[43my\u001b[49m\u001b[43m,\u001b[49m\n\u001b[0;32m    499\u001b[0m \u001b[43m        \u001b[49m\u001b[43msample_weight\u001b[49m\u001b[43m,\u001b[49m\n\u001b[0;32m    500\u001b[0m \u001b[43m        \u001b[49m\u001b[43mi\u001b[49m\u001b[43m,\u001b[49m\n\u001b[0;32m    501\u001b[0m \u001b[43m        \u001b[49m\u001b[38;5;28;43mlen\u001b[39;49m\u001b[43m(\u001b[49m\u001b[43mtrees\u001b[49m\u001b[43m)\u001b[49m\u001b[43m,\u001b[49m\n\u001b[0;32m    502\u001b[0m \u001b[43m        \u001b[49m\u001b[43mverbose\u001b[49m\u001b[38;5;241;43m=\u001b[39;49m\u001b[38;5;28;43mself\u001b[39;49m\u001b[38;5;241;43m.\u001b[39;49m\u001b[43mverbose\u001b[49m\u001b[43m,\u001b[49m\n\u001b[0;32m    503\u001b[0m \u001b[43m        \u001b[49m\u001b[43mclass_weight\u001b[49m\u001b[38;5;241;43m=\u001b[39;49m\u001b[38;5;28;43mself\u001b[39;49m\u001b[38;5;241;43m.\u001b[39;49m\u001b[43mclass_weight\u001b[49m\u001b[43m,\u001b[49m\n\u001b[0;32m    504\u001b[0m \u001b[43m        \u001b[49m\u001b[43mn_samples_bootstrap\u001b[49m\u001b[38;5;241;43m=\u001b[39;49m\u001b[43mn_samples_bootstrap\u001b[49m\u001b[43m,\u001b[49m\n\u001b[0;32m    505\u001b[0m \u001b[43m        \u001b[49m\u001b[43mmissing_values_in_feature_mask\u001b[49m\u001b[38;5;241;43m=\u001b[39;49m\u001b[43mmissing_values_in_feature_mask\u001b[49m\u001b[43m,\u001b[49m\n\u001b[0;32m    506\u001b[0m \u001b[43m    \u001b[49m\u001b[43m)\u001b[49m\n\u001b[0;32m    507\u001b[0m \u001b[43m    \u001b[49m\u001b[38;5;28;43;01mfor\u001b[39;49;00m\u001b[43m \u001b[49m\u001b[43mi\u001b[49m\u001b[43m,\u001b[49m\u001b[43m \u001b[49m\u001b[43mt\u001b[49m\u001b[43m \u001b[49m\u001b[38;5;129;43;01min\u001b[39;49;00m\u001b[43m \u001b[49m\u001b[38;5;28;43menumerate\u001b[39;49m\u001b[43m(\u001b[49m\u001b[43mtrees\u001b[49m\u001b[43m)\u001b[49m\n\u001b[0;32m    508\u001b[0m \u001b[43m\u001b[49m\u001b[43m)\u001b[49m\n\u001b[0;32m    510\u001b[0m \u001b[38;5;66;03m# Collect newly grown trees\u001b[39;00m\n\u001b[0;32m    511\u001b[0m \u001b[38;5;28mself\u001b[39m\u001b[38;5;241m.\u001b[39mestimators_\u001b[38;5;241m.\u001b[39mextend(trees)\n",
      "File \u001b[1;32mc:\\Users\\Ahmed Dawoud\\AppData\\Local\\Programs\\Python\\Python311\\Lib\\site-packages\\sklearn\\utils\\parallel.py:67\u001b[0m, in \u001b[0;36mParallel.__call__\u001b[1;34m(self, iterable)\u001b[0m\n\u001b[0;32m     62\u001b[0m config \u001b[38;5;241m=\u001b[39m get_config()\n\u001b[0;32m     63\u001b[0m iterable_with_config \u001b[38;5;241m=\u001b[39m (\n\u001b[0;32m     64\u001b[0m     (_with_config(delayed_func, config), args, kwargs)\n\u001b[0;32m     65\u001b[0m     \u001b[38;5;28;01mfor\u001b[39;00m delayed_func, args, kwargs \u001b[38;5;129;01min\u001b[39;00m iterable\n\u001b[0;32m     66\u001b[0m )\n\u001b[1;32m---> 67\u001b[0m \u001b[38;5;28;01mreturn\u001b[39;00m \u001b[38;5;28;43msuper\u001b[39;49m\u001b[43m(\u001b[49m\u001b[43m)\u001b[49m\u001b[38;5;241;43m.\u001b[39;49m\u001b[38;5;21;43m__call__\u001b[39;49m\u001b[43m(\u001b[49m\u001b[43miterable_with_config\u001b[49m\u001b[43m)\u001b[49m\n",
      "File \u001b[1;32mc:\\Users\\Ahmed Dawoud\\AppData\\Local\\Programs\\Python\\Python311\\Lib\\site-packages\\joblib\\parallel.py:2072\u001b[0m, in \u001b[0;36mParallel.__call__\u001b[1;34m(self, iterable)\u001b[0m\n\u001b[0;32m   2066\u001b[0m \u001b[38;5;66;03m# The first item from the output is blank, but it makes the interpreter\u001b[39;00m\n\u001b[0;32m   2067\u001b[0m \u001b[38;5;66;03m# progress until it enters the Try/Except block of the generator and\u001b[39;00m\n\u001b[0;32m   2068\u001b[0m \u001b[38;5;66;03m# reaches the first `yield` statement. This starts the asynchronous\u001b[39;00m\n\u001b[0;32m   2069\u001b[0m \u001b[38;5;66;03m# dispatch of the tasks to the workers.\u001b[39;00m\n\u001b[0;32m   2070\u001b[0m \u001b[38;5;28mnext\u001b[39m(output)\n\u001b[1;32m-> 2072\u001b[0m \u001b[38;5;28;01mreturn\u001b[39;00m output \u001b[38;5;28;01mif\u001b[39;00m \u001b[38;5;28mself\u001b[39m\u001b[38;5;241m.\u001b[39mreturn_generator \u001b[38;5;28;01melse\u001b[39;00m \u001b[38;5;28mlist\u001b[39m(output)\n",
      "File \u001b[1;32mc:\\Users\\Ahmed Dawoud\\AppData\\Local\\Programs\\Python\\Python311\\Lib\\site-packages\\joblib\\parallel.py:1682\u001b[0m, in \u001b[0;36mParallel._get_outputs\u001b[1;34m(self, iterator, pre_dispatch)\u001b[0m\n\u001b[0;32m   1679\u001b[0m     \u001b[38;5;28;01myield\u001b[39;00m\n\u001b[0;32m   1681\u001b[0m     \u001b[38;5;28;01mwith\u001b[39;00m \u001b[38;5;28mself\u001b[39m\u001b[38;5;241m.\u001b[39m_backend\u001b[38;5;241m.\u001b[39mretrieval_context():\n\u001b[1;32m-> 1682\u001b[0m         \u001b[38;5;28;01myield from\u001b[39;00m \u001b[38;5;28mself\u001b[39m\u001b[38;5;241m.\u001b[39m_retrieve()\n\u001b[0;32m   1684\u001b[0m \u001b[38;5;28;01mexcept\u001b[39;00m \u001b[38;5;167;01mGeneratorExit\u001b[39;00m:\n\u001b[0;32m   1685\u001b[0m     \u001b[38;5;66;03m# The generator has been garbage collected before being fully\u001b[39;00m\n\u001b[0;32m   1686\u001b[0m     \u001b[38;5;66;03m# consumed. This aborts the remaining tasks if possible and warn\u001b[39;00m\n\u001b[0;32m   1687\u001b[0m     \u001b[38;5;66;03m# the user if necessary.\u001b[39;00m\n\u001b[0;32m   1688\u001b[0m     \u001b[38;5;28mself\u001b[39m\u001b[38;5;241m.\u001b[39m_exception \u001b[38;5;241m=\u001b[39m \u001b[38;5;28;01mTrue\u001b[39;00m\n",
      "File \u001b[1;32mc:\\Users\\Ahmed Dawoud\\AppData\\Local\\Programs\\Python\\Python311\\Lib\\site-packages\\joblib\\parallel.py:1800\u001b[0m, in \u001b[0;36mParallel._retrieve\u001b[1;34m(self)\u001b[0m\n\u001b[0;32m   1789\u001b[0m \u001b[38;5;28;01mif\u001b[39;00m \u001b[38;5;28mself\u001b[39m\u001b[38;5;241m.\u001b[39mreturn_ordered:\n\u001b[0;32m   1790\u001b[0m     \u001b[38;5;66;03m# Case ordered: wait for completion (or error) of the next job\u001b[39;00m\n\u001b[0;32m   1791\u001b[0m     \u001b[38;5;66;03m# that have been dispatched and not retrieved yet. If no job\u001b[39;00m\n\u001b[1;32m   (...)\u001b[0m\n\u001b[0;32m   1795\u001b[0m     \u001b[38;5;66;03m# control only have to be done on the amount of time the next\u001b[39;00m\n\u001b[0;32m   1796\u001b[0m     \u001b[38;5;66;03m# dispatched job is pending.\u001b[39;00m\n\u001b[0;32m   1797\u001b[0m     \u001b[38;5;28;01mif\u001b[39;00m (nb_jobs \u001b[38;5;241m==\u001b[39m \u001b[38;5;241m0\u001b[39m) \u001b[38;5;129;01mor\u001b[39;00m (\n\u001b[0;32m   1798\u001b[0m         \u001b[38;5;28mself\u001b[39m\u001b[38;5;241m.\u001b[39m_jobs[\u001b[38;5;241m0\u001b[39m]\u001b[38;5;241m.\u001b[39mget_status(timeout\u001b[38;5;241m=\u001b[39m\u001b[38;5;28mself\u001b[39m\u001b[38;5;241m.\u001b[39mtimeout) \u001b[38;5;241m==\u001b[39m TASK_PENDING\n\u001b[0;32m   1799\u001b[0m     ):\n\u001b[1;32m-> 1800\u001b[0m         time\u001b[38;5;241m.\u001b[39msleep(\u001b[38;5;241m0.01\u001b[39m)\n\u001b[0;32m   1801\u001b[0m         \u001b[38;5;28;01mcontinue\u001b[39;00m\n\u001b[0;32m   1803\u001b[0m \u001b[38;5;28;01melif\u001b[39;00m nb_jobs \u001b[38;5;241m==\u001b[39m \u001b[38;5;241m0\u001b[39m:\n\u001b[0;32m   1804\u001b[0m     \u001b[38;5;66;03m# Case unordered: jobs are added to the list of jobs to\u001b[39;00m\n\u001b[0;32m   1805\u001b[0m     \u001b[38;5;66;03m# retrieve `self._jobs` only once completed or in error, which\u001b[39;00m\n\u001b[1;32m   (...)\u001b[0m\n\u001b[0;32m   1811\u001b[0m     \u001b[38;5;66;03m# timeouts before any other dispatched job has completed and\u001b[39;00m\n\u001b[0;32m   1812\u001b[0m     \u001b[38;5;66;03m# been added to `self._jobs` to be retrieved.\u001b[39;00m\n",
      "\u001b[1;31mKeyboardInterrupt\u001b[0m: "
     ]
    }
   ],
   "source": [
    "grid = [(i, j) for i in range(3, 10) for j in range(10, 200, 10)]\n",
    "best = [0, 0, 0, 0]\n",
    "for i, j in grid:\n",
    "    rf_classifier = RandomForestClassifier(\n",
    "        n_estimators=j, n_jobs=-1, random_state=42, max_depth=i\n",
    "    )\n",
    "    rf_classifier.fit(X_tr, y_tr)\n",
    "    train_accuracy_rf = rf_classifier.score(X_tr, y_tr)\n",
    "    validation_accuracy_rf = rf_classifier.score(X_dev, y_dev)\n",
    "    if best is None or validation_accuracy_rf > best[-1]:\n",
    "        best = (rf_classifier, train_accuracy_rf, validation_accuracy_rf)\n",
    "        print(f\"Found better model: {best[0]} | {best[1]:.4f} | {best[2]:.4f}\")"
   ]
  },
  {
   "cell_type": "code",
   "execution_count": 318,
   "id": "7aada541",
   "metadata": {},
   "outputs": [
    {
     "data": {
      "text/plain": [
       "(0, 0)"
      ]
     },
     "execution_count": 318,
     "metadata": {},
     "output_type": "execute_result"
    }
   ],
   "source": [
    "(y_tr != y_train).sum(), (y_dev != y_validation).sum()"
   ]
  },
  {
   "cell_type": "code",
   "execution_count": 319,
   "id": "bb92cc9c",
   "metadata": {},
   "outputs": [
    {
     "data": {
      "text/plain": [
       "((2400, 84), (50, 84), (2400,), (50,))"
      ]
     },
     "execution_count": 319,
     "metadata": {},
     "output_type": "execute_result"
    }
   ],
   "source": [
    "X_train_big = np.concatenate((X_tr, X_train), axis=1)\n",
    "X_validation_big = np.concatenate((X_dev, X_validation), axis=1)\n",
    "# Combine labels\n",
    "\n",
    "X_train_big.shape, X_validation_big.shape, y_train.shape, y_validation.shape"
   ]
  },
  {
   "cell_type": "code",
   "execution_count": 320,
   "id": "1691c6a3",
   "metadata": {},
   "outputs": [
    {
     "name": "stdout",
     "output_type": "stream",
     "text": [
      "KNN (k=1): 1.0000  |  0.3000\n",
      "KNN (k=3): 0.5625  |  0.2200\n",
      "KNN (k=5): 0.5046  |  0.2400\n",
      "KNN (k=7): 0.4725  |  0.3200\n",
      "KNN (k=9): 0.4408  |  0.2200\n",
      "KNN (k=11): 0.4192  |  0.0600\n",
      "KNN (k=13): 0.4146  |  0.2800\n"
     ]
    }
   ],
   "source": [
    "# KNN\n",
    "for k in range(1, 15, 2):\n",
    "    knn_classifier = KNeighborsClassifier(n_neighbors=k, n_jobs=-1)\n",
    "    knn_classifier.fit(X_train_big, y_train)\n",
    "    train_accuracy_knn = knn_classifier.score(X_train_big, y_train)\n",
    "    validation_accuracy_knn = knn_classifier.score(X_validation_big, y_validation)\n",
    "    print(f\"KNN (k={k}): {train_accuracy_knn:.4f}  |  {validation_accuracy_knn:.4f}\")"
   ]
  },
  {
   "cell_type": "code",
   "execution_count": 321,
   "id": "1a06640d",
   "metadata": {},
   "outputs": [
    {
     "name": "stdout",
     "output_type": "stream",
     "text": [
      "Ridge Classifier Training accuracy: 0.6975\n",
      "Ridge Classifier Validation accuracy: 0.4200\n"
     ]
    }
   ],
   "source": [
    "# RIDGE\n",
    "ridge_classifier = RidgeClassifier(alpha=1.0, random_state=42)\n",
    "ridge_classifier.fit(X_train_big, y_train)\n",
    "# Evaluate on validation set\n",
    "train_accuracy_ridge = ridge_classifier.score(X_train_big, y_train)\n",
    "validation_accuracy_ridge = ridge_classifier.score(X_validation_big, y_validation)\n",
    "print(f\"Ridge Classifier Training accuracy: {train_accuracy_ridge:.4f}\")\n",
    "print(f\"Ridge Classifier Validation accuracy: {validation_accuracy_ridge:.4f}\")"
   ]
  },
  {
   "cell_type": "code",
   "execution_count": 322,
   "id": "cdba8ffe",
   "metadata": {},
   "outputs": [
    {
     "name": "stdout",
     "output_type": "stream",
     "text": [
      "Found better model: RidgeClassifier(alpha=0.06666666666666667, random_state=42) | 0.6958 | 0.4200\n",
      "Found better model: RidgeClassifier(alpha=0.3333333333333333, random_state=42) | 0.6975 | 0.4400\n"
     ]
    }
   ],
   "source": [
    "# hyperparameter tuning for ridge\n",
    "grid = [(i / 15.0) for i in range(1, 40)]\n",
    "best = [0, 0, 0, 0]\n",
    "for i in grid:\n",
    "    ridge_classifier = RidgeClassifier(alpha=i, random_state=42)\n",
    "    ridge_classifier.fit(X_train_big, y_train)\n",
    "    train_accuracy_ridge = ridge_classifier.score(X_train_big, y_train)\n",
    "    validation_accuracy_ridge = ridge_classifier.score(X_validation_big, y_validation)\n",
    "    if best is None or validation_accuracy_ridge > best[-1]:\n",
    "        best = (ridge_classifier, train_accuracy_ridge, validation_accuracy_ridge)\n",
    "        print(f\"Found better model: {best[0]} | {best[1]:.4f} | {best[2]:.4f}\")"
   ]
  },
  {
   "cell_type": "code",
   "execution_count": 323,
   "id": "b273694a",
   "metadata": {},
   "outputs": [
    {
     "name": "stdout",
     "output_type": "stream",
     "text": [
      "Random Forest Training accuracy: 0.9287\n",
      "Random Forest Validation accuracy: 0.4400\n"
     ]
    }
   ],
   "source": [
    "# Random Forest\n",
    "rf_classifier = RandomForestClassifier(\n",
    "    n_estimators=150, n_jobs=-1, random_state=42, max_depth=9\n",
    ")\n",
    "rf_classifier.fit(X_train_big, y_train)\n",
    "# Evaluate on validation set\n",
    "train_accuracy_rf = rf_classifier.score(X_train_big, y_train)\n",
    "validation_accuracy_rf = rf_classifier.score(X_validation_big, y_validation)\n",
    "print(f\"Random Forest Training accuracy: {train_accuracy_rf:.4f}\")\n",
    "print(f\"Random Forest Validation accuracy: {validation_accuracy_rf:.4f}\")"
   ]
  },
  {
   "cell_type": "code",
   "execution_count": 324,
   "id": "2d9cc977",
   "metadata": {},
   "outputs": [
    {
     "name": "stderr",
     "output_type": "stream",
     "text": [
      "  1%|          | 1/140 [00:00<00:16,  8.64it/s]"
     ]
    },
    {
     "name": "stdout",
     "output_type": "stream",
     "text": [
      "Found better model: RandomForestClassifier(max_depth=3, n_estimators=10, n_jobs=-1, random_state=42) | 0.6383 | 0.4600\n",
      "Found better model: RandomForestClassifier(max_depth=4, n_estimators=10, n_jobs=-1, random_state=42) | 0.6658 | 0.5000\n"
     ]
    },
    {
     "name": "stderr",
     "output_type": "stream",
     "text": [
      "  7%|▋         | 10/140 [00:01<00:14,  9.11it/s]"
     ]
    },
    {
     "name": "stdout",
     "output_type": "stream",
     "text": [
      "Found better model: RandomForestClassifier(max_depth=4, n_estimators=20, n_jobs=-1, random_state=42) | 0.6854 | 0.5400\n"
     ]
    },
    {
     "name": "stderr",
     "output_type": "stream",
     "text": [
      " 73%|███████▎  | 102/140 [00:26<00:15,  2.38it/s]"
     ]
    },
    {
     "name": "stdout",
     "output_type": "stream",
     "text": [
      "Found better model: RandomForestClassifier(max_depth=6, n_estimators=150, n_jobs=-1,\n",
      "                       random_state=42) | 0.7683 | 0.5600\n"
     ]
    },
    {
     "name": "stderr",
     "output_type": "stream",
     "text": [
      "100%|██████████| 140/140 [00:46<00:00,  3.03it/s]\n"
     ]
    }
   ],
   "source": [
    "grid = [(n, d) for n in range(10, 210, 10) for d in range(3, 10)]\n",
    "best = [0]\n",
    "for n, d in tqdm(grid):\n",
    "    rf_classifier = RandomForestClassifier(\n",
    "        n_estimators=n, n_jobs=-1, random_state=42, max_depth=d\n",
    "    )\n",
    "    rf_classifier.fit(X_train_big, y_train)\n",
    "    train_accuracy_rf = rf_classifier.score(X_train_big, y_train)\n",
    "    validation_accuracy_rf = rf_classifier.score(X_validation_big, y_validation)\n",
    "    if best is None or validation_accuracy_rf > best[-1]:\n",
    "        best = (rf_classifier, train_accuracy_rf, validation_accuracy_rf)\n",
    "        print(f\"Found better model: {best[0]} | {best[1]:.4f} | {best[2]:.4f}\")"
   ]
  },
  {
   "cell_type": "code",
   "execution_count": 325,
   "id": "ccf7320d",
   "metadata": {},
   "outputs": [
    {
     "name": "stdout",
     "output_type": "stream",
     "text": [
      "Best Random Forest model: RandomForestClassifier(max_depth=6, n_estimators=150, n_jobs=-1,\n",
      "                       random_state=42)\n",
      "Best Training accuracy: 0.7683\n",
      "Best Validation accuracy: 0.5600\n"
     ]
    }
   ],
   "source": [
    "random_forest_best = best[0]\n",
    "print(f\"Best Random Forest model: {random_forest_best}\")\n",
    "print(f\"Best Training accuracy: {best[1]:.4f}\")\n",
    "print(f\"Best Validation accuracy: {best[2]:.4f}\")"
   ]
  },
  {
   "cell_type": "code",
   "execution_count": 326,
   "id": "a1359f85",
   "metadata": {},
   "outputs": [
    {
     "name": "stdout",
     "output_type": "stream",
     "text": [
      "Final Training accuracy: 0.7683\n",
      "Final Validation accuracy: 0.5600\n"
     ]
    }
   ],
   "source": [
    "model = RandomForestClassifier(max_depth=6, n_estimators=150, n_jobs=-1, random_state=42)\n",
    "model.fit(X_train_big, y_train)\n",
    "train_accuracy = model.score(X_train_big, y_train)\n",
    "validation_accuracy = model.score(X_validation_big, y_validation)\n",
    "print(f\"Final Training accuracy: {train_accuracy:.4f}\")\n",
    "print(f\"Final Validation accuracy: {validation_accuracy:.4f}\")"
   ]
  },
  {
   "cell_type": "code",
   "execution_count": 327,
   "id": "b997a91b",
   "metadata": {},
   "outputs": [
    {
     "name": "stdout",
     "output_type": "stream",
     "text": [
      "              precision    recall  f1-score   support\n",
      "\n",
      "    Backward       0.60      0.64      0.62        14\n",
      "     Forward       0.62      0.67      0.64        12\n",
      "        Left       0.45      0.36      0.40        14\n",
      "       Right       0.55      0.60      0.57        10\n",
      "\n",
      "    accuracy                           0.56        50\n",
      "   macro avg       0.55      0.57      0.56        50\n",
      "weighted avg       0.55      0.56      0.55        50\n",
      "\n"
     ]
    }
   ],
   "source": [
    "from sklearn.metrics import classification_report\n",
    "y_pred = model.predict(X_validation_big)\n",
    "print(classification_report(y_validation, y_pred, target_names=label_encoder.classes_))"
   ]
  },
  {
   "cell_type": "code",
   "execution_count": 249,
   "id": "25bd766f",
   "metadata": {},
   "outputs": [
    {
     "data": {
      "text/plain": [
       "['ssvep_random_forest_model_56acc_56f1.pkl']"
      ]
     },
     "execution_count": 249,
     "metadata": {},
     "output_type": "execute_result"
    }
   ],
   "source": [
    "# save the model\n",
    "import joblib\n",
    "joblib.dump(model, \"ssvep_random_forest_model_56acc_56f1.pkl\")"
   ]
  },
  {
   "cell_type": "code",
   "execution_count": 329,
   "id": "af86aed6",
   "metadata": {},
   "outputs": [
    {
     "name": "stderr",
     "output_type": "stream",
     "text": [
      "100%|██████████| 50/50 [00:05<00:00,  8.81it/s]"
     ]
    },
    {
     "name": "stdout",
     "output_type": "stream",
     "text": [
      "X_test shape: (50, 84)\n"
     ]
    },
    {
     "name": "stderr",
     "output_type": "stream",
     "text": [
      "\n"
     ]
    }
   ],
   "source": [
    "# load test dataset\n",
    "test_dataset = SSVEP_Dataset(\n",
    "    base_path=\"\",\n",
    "    index_csv=\"test.csv\",\n",
    "    ch_names=CH_NAMES,\n",
    "    sfreq=SFREQ,\n",
    "    transform=lambda raw: raw.notch_filter(\n",
    "        freqs=50.0, picks=\"eeg\", fir_design=\"firwin\"\n",
    "    ),\n",
    ")\n",
    "# Extract features from the test dataset\n",
    "X_test = []\n",
    "with mne.utils.use_log_level(\"WARNING\"):\n",
    "    for i in tqdm(range(len(test_dataset))):\n",
    "        eeg_tensor = test_dataset[i]\n",
    "        raw = mne.io.RawArray(\n",
    "            eeg_tensor.numpy(),\n",
    "            mne.create_info(\n",
    "                ch_names=CH_NAMES, sfreq=SFREQ, ch_types=[\"eeg\"] * len(CH_NAMES)\n",
    "            ),\n",
    "        )\n",
    "        # Compute the PSD for the current EEG trial\n",
    "        psds, freqs = raw.compute_psd(\n",
    "            method=\"welch\",\n",
    "            fmin=1.0,\n",
    "            fmax=60,  # Ensure this covers your highest harmonic\n",
    "            n_fft=1024,  # Use a larger n_fft for better frequency resolution\n",
    "        ).get_data(return_freqs=True)\n",
    "\n",
    "        feature_vector = []\n",
    "        for freq in freqs_of_interest:\n",
    "            # Find the index of the closest frequency in the PSD\n",
    "            idx = np.argmin(np.abs(freqs - freq))\n",
    "            # Extract the power spectral density value for that frequency\n",
    "            psd_value = psds[:, idx]\n",
    "            feature_vector.extend(psd_value)\n",
    "        psd_vector = np.array(feature_vector)\n",
    "        \n",
    "        class_scores = extract_fbcca_features(\n",
    "            eeg_tensor,\n",
    "            CH_NAMES,\n",
    "            STIM_FREQS,\n",
    "            SFREQ,\n",
    "            n_harmonics=2,\n",
    "            n_bands=5,\n",
    "            band_width=8,\n",
    "            start_freq=6.0,\n",
    "        )\n",
    "        X_test.append(np.concatenate((psd_vector, class_scores.flatten())))\n",
    "        \n",
    "X_test = np.array(X_test)\n",
    "print(f\"X_test shape: {X_test.shape}\")"
   ]
  },
  {
   "cell_type": "code",
   "execution_count": 330,
   "id": "445e0396",
   "metadata": {},
   "outputs": [
    {
     "name": "stdout",
     "output_type": "stream",
     "text": [
      "Test predictions saved to ssvep_RF_56_predictions.csv\n"
     ]
    }
   ],
   "source": [
    "# predict on the test set\n",
    "y_test_pred = model.predict(X_test)\n",
    "# Inverse transform the labels to get the original class names\n",
    "y_test_pred_labels = label_encoder.inverse_transform(y_test_pred)\n",
    "# Save the predictions to a CSV file\n",
    "test_df = pd.DataFrame({\"id\": test_dataset.df[\"id\"], \"label\": y_test_pred_labels})\n",
    "test_df.to_csv(\"ssvep_RF_56_predictions.csv\", index=False)\n",
    "# Save the predictions to a CSV file\n",
    "print(\"Test predictions saved to ssvep_RF_56_predictions.csv\")"
   ]
  },
  {
   "cell_type": "code",
   "execution_count": 245,
   "id": "59a67ef6",
   "metadata": {},
   "outputs": [
    {
     "name": "stdout",
     "output_type": "stream",
     "text": [
      "F1 Score: 0.5537\n"
     ]
    }
   ],
   "source": [
    "# f1\n",
    "from sklearn.metrics import f1_score\n",
    "\n",
    "f1 = f1_score(y_validation, y_pred, average=\"weighted\")\n",
    "print(f\"F1 Score: {f1:.4f}\")"
   ]
  },
  {
   "cell_type": "code",
   "execution_count": 208,
   "id": "863b8730",
   "metadata": {},
   "outputs": [
    {
     "name": "stdout",
     "output_type": "stream",
     "text": [
      "XGBoost Training accuracy: 0.8883\n",
      "XGBoost Validation accuracy: 0.5200\n"
     ]
    }
   ],
   "source": [
    "# XGBoost\n",
    "from xgboost import XGBClassifier\n",
    "\n",
    "# Train an XGBoost classifier\n",
    "xgb_classifier = XGBClassifier(\n",
    "    use_label_encoder=False,\n",
    "    eval_metric=\"mlogloss\",\n",
    "    n_jobs=-1,\n",
    "    random_state=42,\n",
    "    n_estimators=20,\n",
    "    max_depth=7,\n",
    "    learning_rate=0.1,\n",
    "    subsample=0.4,\n",
    "    colsample_bytree=0.8,\n",
    ")\n",
    "xgb_classifier.fit(X_train_big, y_train)\n",
    "# Evaluate on validation set\n",
    "train_accuracy_xgb = xgb_classifier.score(X_train_big, y_train)\n",
    "validation_accuracy_xgb = xgb_classifier.score(X_validation_big, y_validation)\n",
    "print(f\"XGBoost Training accuracy: {train_accuracy_xgb:.4f}\")\n",
    "print(f\"XGBoost Validation accuracy: {validation_accuracy_xgb:.4f}\")"
   ]
  },
  {
   "cell_type": "code",
   "execution_count": 212,
   "id": "5caf3312",
   "metadata": {},
   "outputs": [
    {
     "name": "stderr",
     "output_type": "stream",
     "text": [
      "  1%|▏         | 2/140 [00:00<00:31,  4.39it/s]"
     ]
    },
    {
     "name": "stdout",
     "output_type": "stream",
     "text": [
      "Found better model: (num_estimators=10, max_depth=3) | 0.6758 | 0.4200\n"
     ]
    },
    {
     "name": "stderr",
     "output_type": "stream",
     "text": [
      "  3%|▎         | 4/140 [00:01<00:43,  3.12it/s]"
     ]
    },
    {
     "name": "stdout",
     "output_type": "stream",
     "text": [
      "Found better model: (num_estimators=10, max_depth=6) | 0.8013 | 0.4400\n"
     ]
    },
    {
     "name": "stderr",
     "output_type": "stream",
     "text": [
      "  4%|▎         | 5/140 [00:01<00:52,  2.59it/s]"
     ]
    },
    {
     "name": "stdout",
     "output_type": "stream",
     "text": [
      "Found better model: (num_estimators=10, max_depth=7) | 0.8404 | 0.5000\n"
     ]
    },
    {
     "name": "stderr",
     "output_type": "stream",
     "text": [
      "  8%|▊         | 11/140 [00:05<01:16,  1.70it/s]"
     ]
    },
    {
     "name": "stdout",
     "output_type": "stream",
     "text": [
      "Found better model: (num_estimators=20, max_depth=6) | 0.8583 | 0.5400\n"
     ]
    },
    {
     "name": "stderr",
     "output_type": "stream",
     "text": [
      "100%|██████████| 140/140 [05:11<00:00,  2.22s/it]\n"
     ]
    }
   ],
   "source": [
    "grid = [(n, d) for n in range(10, 210, 10) for d in range(3, 10)]\n",
    "best = [0]\n",
    "for n, d in tqdm(grid):\n",
    "    xgb_classifier = XGBClassifier(\n",
    "        use_label_encoder=False,\n",
    "        eval_metric=\"mlogloss\",\n",
    "        n_jobs=-1,\n",
    "        random_state=42,\n",
    "        n_estimators=n,\n",
    "        max_depth=d,\n",
    "        learning_rate=0.1,\n",
    "        subsample=0.4,\n",
    "        colsample_bytree=0.8,\n",
    "    )\n",
    "    xgb_classifier.fit(X_train_big, y_train)\n",
    "    train_accuracy_xgb = xgb_classifier.score(X_train_big, y_train)\n",
    "    validation_accuracy_xgb = xgb_classifier.score(X_validation_big, y_validation)\n",
    "    if best is None or validation_accuracy_xgb > best[-1]:\n",
    "        best = (xgb_classifier, train_accuracy_xgb, validation_accuracy_xgb)\n",
    "        print(\n",
    "            f\"Found better model: (num_estimators={n}, max_depth={d}) | {best[1]:.4f} | {best[2]:.4f}\"\n",
    "        )"
   ]
  },
  {
   "cell_type": "code",
   "execution_count": 213,
   "id": "2877c2f0",
   "metadata": {},
   "outputs": [
    {
     "name": "stderr",
     "output_type": "stream",
     "text": [
      " 97%|█████████▋| 30/31 [00:23<00:00,  1.77it/s]"
     ]
    },
    {
     "name": "stdout",
     "output_type": "stream",
     "text": [
      "[LightGBM] [Info] Auto-choosing row-wise multi-threading, the overhead of testing was 0.002045 seconds.\n",
      "You can set `force_row_wise=true` to remove the overhead.\n",
      "And if memory is not enough, you can set `force_col_wise=true`.\n",
      "[LightGBM] [Info] Total Bins 21420\n",
      "[LightGBM] [Info] Number of data points in the train set: 2400, number of used features: 84\n",
      "[LightGBM] [Info] Start training from score -1.328025\n",
      "[LightGBM] [Info] Start training from score -1.420196\n",
      "[LightGBM] [Info] Start training from score -1.411612\n",
      "[LightGBM] [Info] Start training from score -1.387962\n"
     ]
    },
    {
     "name": "stderr",
     "output_type": "stream",
     "text": [
      "100%|██████████| 31/31 [00:25<00:00,  1.21it/s]"
     ]
    },
    {
     "name": "stdout",
     "output_type": "stream",
     "text": [
      "                               Accuracy  Balanced Accuracy ROC AUC  F1 Score  \\\n",
      "Model                                                                          \n",
      "RandomForestClassifier             0.52               0.54    None      0.51   \n",
      "BaggingClassifier                  0.50               0.51    None      0.51   \n",
      "BernoulliNB                        0.48               0.48    None      0.48   \n",
      "NearestCentroid                    0.48               0.48    None      0.47   \n",
      "DecisionTreeClassifier             0.46               0.46    None      0.46   \n",
      "SVC                                0.46               0.45    None      0.45   \n",
      "LogisticRegression                 0.44               0.44    None      0.44   \n",
      "SGDClassifier                      0.44               0.44    None      0.45   \n",
      "NuSVC                              0.44               0.43    None      0.43   \n",
      "LGBMClassifier                     0.42               0.42    None      0.41   \n",
      "ExtraTreesClassifier               0.42               0.42    None      0.42   \n",
      "RidgeClassifierCV                  0.42               0.42    None      0.42   \n",
      "CalibratedClassifierCV             0.40               0.40    None      0.41   \n",
      "RidgeClassifier                    0.40               0.40    None      0.40   \n",
      "AdaBoostClassifier                 0.38               0.38    None      0.37   \n",
      "LinearDiscriminantAnalysis         0.38               0.38    None      0.38   \n",
      "Perceptron                         0.38               0.38    None      0.38   \n",
      "KNeighborsClassifier               0.38               0.37    None      0.36   \n",
      "XGBClassifier                      0.36               0.37    None      0.35   \n",
      "PassiveAggressiveClassifier        0.36               0.36    None      0.37   \n",
      "QuadraticDiscriminantAnalysis      0.34               0.35    None      0.34   \n",
      "GaussianNB                         0.38               0.35    None      0.34   \n",
      "LinearSVC                          0.34               0.34    None      0.34   \n",
      "LabelSpreading                     0.34               0.33    None      0.31   \n",
      "LabelPropagation                   0.34               0.33    None      0.31   \n",
      "DummyClassifier                    0.28               0.25    None      0.12   \n",
      "ExtraTreeClassifier                0.24               0.23    None      0.24   \n",
      "\n",
      "                               Time Taken  \n",
      "Model                                      \n",
      "RandomForestClassifier               2.13  \n",
      "BaggingClassifier                    1.45  \n",
      "BernoulliNB                          0.02  \n",
      "NearestCentroid                      0.02  \n",
      "DecisionTreeClassifier               0.33  \n",
      "SVC                                  0.31  \n",
      "LogisticRegression                   0.08  \n",
      "SGDClassifier                        0.06  \n",
      "NuSVC                                0.32  \n",
      "LGBMClassifier                       1.61  \n",
      "ExtraTreesClassifier                 0.64  \n",
      "RidgeClassifierCV                    0.27  \n",
      "CalibratedClassifierCV               9.83  \n",
      "RidgeClassifier                      0.03  \n",
      "AdaBoostClassifier                   1.36  \n",
      "LinearDiscriminantAnalysis           0.56  \n",
      "Perceptron                           0.04  \n",
      "KNeighborsClassifier                 0.11  \n",
      "XGBClassifier                        2.41  \n",
      "PassiveAggressiveClassifier          0.05  \n",
      "QuadraticDiscriminantAnalysis        0.18  \n",
      "GaussianNB                           0.07  \n",
      "LinearSVC                            2.78  \n",
      "LabelSpreading                       0.40  \n",
      "LabelPropagation                     0.45  \n",
      "DummyClassifier                      0.02  \n",
      "ExtraTreeClassifier                  0.02  \n"
     ]
    },
    {
     "name": "stderr",
     "output_type": "stream",
     "text": [
      "\n"
     ]
    }
   ],
   "source": [
    "# LazyClassifier\n",
    "from lazypredict.Supervised import LazyClassifier\n",
    "lazy_classifier = LazyClassifier(\n",
    "    ignore_warnings=True,\n",
    "    custom_metric=None,\n",
    "    random_state=42,\n",
    ")\n",
    "# Fit the lazy classifier\n",
    "models, predictions = lazy_classifier.fit(\n",
    "    X_train_big, X_validation_big, y_train, y_validation\n",
    ")\n",
    "# Display the results\n",
    "print(models)"
   ]
  },
  {
   "cell_type": "code",
   "execution_count": 34,
   "id": "3dc9a615",
   "metadata": {},
   "outputs": [
    {
     "name": "stderr",
     "output_type": "stream",
     "text": [
      "  1%|          | 29/2400 [00:01<02:10, 18.11it/s]\n"
     ]
    },
    {
     "ename": "ParserError",
     "evalue": "Error tokenizing data. C error: Calling read(nbytes) on source failed. Try engine='python'.",
     "output_type": "error",
     "traceback": [
      "\u001b[1;31m---------------------------------------------------------------------------\u001b[0m",
      "\u001b[1;31mParserError\u001b[0m                               Traceback (most recent call last)",
      "Cell \u001b[1;32mIn[34], line 9\u001b[0m\n\u001b[0;32m      6\u001b[0m Y \u001b[38;5;241m=\u001b[39m []\n\u001b[0;32m      8\u001b[0m \u001b[38;5;28;01mfor\u001b[39;00m i \u001b[38;5;129;01min\u001b[39;00m tqdm(\u001b[38;5;28mrange\u001b[39m(\u001b[38;5;28mlen\u001b[39m(train_dataset))):\n\u001b[1;32m----> 9\u001b[0m     x, label \u001b[38;5;241m=\u001b[39m \u001b[43mtrain_dataset\u001b[49m\u001b[43m[\u001b[49m\u001b[43mi\u001b[49m\u001b[43m]\u001b[49m\n\u001b[0;32m     10\u001b[0m     x \u001b[38;5;241m=\u001b[39m x\u001b[38;5;241m.\u001b[39mnumpy()\u001b[38;5;241m.\u001b[39mT \u001b[38;5;241m*\u001b[39m window[:, \u001b[38;5;28;01mNone\u001b[39;00m]  \u001b[38;5;66;03m# Apply Hamming window\u001b[39;00m\n\u001b[0;32m     11\u001b[0m     fft_vals \u001b[38;5;241m=\u001b[39m np\u001b[38;5;241m.\u001b[39mfft\u001b[38;5;241m.\u001b[39mrfft(x, axis\u001b[38;5;241m=\u001b[39m\u001b[38;5;241m0\u001b[39m)\n",
      "Cell \u001b[1;32mIn[2], line 45\u001b[0m, in \u001b[0;36mEEG_Dataset.__getitem__\u001b[1;34m(self, idx)\u001b[0m\n\u001b[0;32m     35\u001b[0m eeg_path \u001b[38;5;241m=\u001b[39m os\u001b[38;5;241m.\u001b[39mpath\u001b[38;5;241m.\u001b[39mjoin(\n\u001b[0;32m     36\u001b[0m     \u001b[38;5;28mself\u001b[39m\u001b[38;5;241m.\u001b[39mbase_path,\n\u001b[0;32m     37\u001b[0m     row[\u001b[38;5;124m\"\u001b[39m\u001b[38;5;124mtask\u001b[39m\u001b[38;5;124m\"\u001b[39m],\n\u001b[1;32m   (...)\u001b[0m\n\u001b[0;32m     41\u001b[0m     \u001b[38;5;124m\"\u001b[39m\u001b[38;5;124mEEGdata.csv\u001b[39m\u001b[38;5;124m\"\u001b[39m,\n\u001b[0;32m     42\u001b[0m )\n\u001b[0;32m     44\u001b[0m \u001b[38;5;66;03m# Load full session\u001b[39;00m\n\u001b[1;32m---> 45\u001b[0m sess_df \u001b[38;5;241m=\u001b[39m \u001b[43mpd\u001b[49m\u001b[38;5;241;43m.\u001b[39;49m\u001b[43mread_csv\u001b[49m\u001b[43m(\u001b[49m\u001b[43meeg_path\u001b[49m\u001b[43m)\u001b[49m\n\u001b[0;32m     47\u001b[0m \u001b[38;5;66;03m# Determine samples per trial\u001b[39;00m\n\u001b[0;32m     48\u001b[0m \u001b[38;5;28;01mif\u001b[39;00m row[\u001b[38;5;124m\"\u001b[39m\u001b[38;5;124mtask\u001b[39m\u001b[38;5;124m\"\u001b[39m] \u001b[38;5;241m==\u001b[39m \u001b[38;5;124m\"\u001b[39m\u001b[38;5;124mMI\u001b[39m\u001b[38;5;124m\"\u001b[39m:\n",
      "File \u001b[1;32mc:\\Users\\Ahmed Dawoud\\AppData\\Local\\Programs\\Python\\Python311\\Lib\\site-packages\\pandas\\io\\parsers\\readers.py:1026\u001b[0m, in \u001b[0;36mread_csv\u001b[1;34m(filepath_or_buffer, sep, delimiter, header, names, index_col, usecols, dtype, engine, converters, true_values, false_values, skipinitialspace, skiprows, skipfooter, nrows, na_values, keep_default_na, na_filter, verbose, skip_blank_lines, parse_dates, infer_datetime_format, keep_date_col, date_parser, date_format, dayfirst, cache_dates, iterator, chunksize, compression, thousands, decimal, lineterminator, quotechar, quoting, doublequote, escapechar, comment, encoding, encoding_errors, dialect, on_bad_lines, delim_whitespace, low_memory, memory_map, float_precision, storage_options, dtype_backend)\u001b[0m\n\u001b[0;32m   1013\u001b[0m kwds_defaults \u001b[38;5;241m=\u001b[39m _refine_defaults_read(\n\u001b[0;32m   1014\u001b[0m     dialect,\n\u001b[0;32m   1015\u001b[0m     delimiter,\n\u001b[1;32m   (...)\u001b[0m\n\u001b[0;32m   1022\u001b[0m     dtype_backend\u001b[38;5;241m=\u001b[39mdtype_backend,\n\u001b[0;32m   1023\u001b[0m )\n\u001b[0;32m   1024\u001b[0m kwds\u001b[38;5;241m.\u001b[39mupdate(kwds_defaults)\n\u001b[1;32m-> 1026\u001b[0m \u001b[38;5;28;01mreturn\u001b[39;00m \u001b[43m_read\u001b[49m\u001b[43m(\u001b[49m\u001b[43mfilepath_or_buffer\u001b[49m\u001b[43m,\u001b[49m\u001b[43m \u001b[49m\u001b[43mkwds\u001b[49m\u001b[43m)\u001b[49m\n",
      "File \u001b[1;32mc:\\Users\\Ahmed Dawoud\\AppData\\Local\\Programs\\Python\\Python311\\Lib\\site-packages\\pandas\\io\\parsers\\readers.py:626\u001b[0m, in \u001b[0;36m_read\u001b[1;34m(filepath_or_buffer, kwds)\u001b[0m\n\u001b[0;32m    623\u001b[0m     \u001b[38;5;28;01mreturn\u001b[39;00m parser\n\u001b[0;32m    625\u001b[0m \u001b[38;5;28;01mwith\u001b[39;00m parser:\n\u001b[1;32m--> 626\u001b[0m     \u001b[38;5;28;01mreturn\u001b[39;00m \u001b[43mparser\u001b[49m\u001b[38;5;241;43m.\u001b[39;49m\u001b[43mread\u001b[49m\u001b[43m(\u001b[49m\u001b[43mnrows\u001b[49m\u001b[43m)\u001b[49m\n",
      "File \u001b[1;32mc:\\Users\\Ahmed Dawoud\\AppData\\Local\\Programs\\Python\\Python311\\Lib\\site-packages\\pandas\\io\\parsers\\readers.py:1923\u001b[0m, in \u001b[0;36mTextFileReader.read\u001b[1;34m(self, nrows)\u001b[0m\n\u001b[0;32m   1916\u001b[0m nrows \u001b[38;5;241m=\u001b[39m validate_integer(\u001b[38;5;124m\"\u001b[39m\u001b[38;5;124mnrows\u001b[39m\u001b[38;5;124m\"\u001b[39m, nrows)\n\u001b[0;32m   1917\u001b[0m \u001b[38;5;28;01mtry\u001b[39;00m:\n\u001b[0;32m   1918\u001b[0m     \u001b[38;5;66;03m# error: \"ParserBase\" has no attribute \"read\"\u001b[39;00m\n\u001b[0;32m   1919\u001b[0m     (\n\u001b[0;32m   1920\u001b[0m         index,\n\u001b[0;32m   1921\u001b[0m         columns,\n\u001b[0;32m   1922\u001b[0m         col_dict,\n\u001b[1;32m-> 1923\u001b[0m     ) \u001b[38;5;241m=\u001b[39m \u001b[38;5;28;43mself\u001b[39;49m\u001b[38;5;241;43m.\u001b[39;49m\u001b[43m_engine\u001b[49m\u001b[38;5;241;43m.\u001b[39;49m\u001b[43mread\u001b[49m\u001b[43m(\u001b[49m\u001b[43m  \u001b[49m\u001b[38;5;66;43;03m# type: ignore[attr-defined]\u001b[39;49;00m\n\u001b[0;32m   1924\u001b[0m \u001b[43m        \u001b[49m\u001b[43mnrows\u001b[49m\n\u001b[0;32m   1925\u001b[0m \u001b[43m    \u001b[49m\u001b[43m)\u001b[49m\n\u001b[0;32m   1926\u001b[0m \u001b[38;5;28;01mexcept\u001b[39;00m \u001b[38;5;167;01mException\u001b[39;00m:\n\u001b[0;32m   1927\u001b[0m     \u001b[38;5;28mself\u001b[39m\u001b[38;5;241m.\u001b[39mclose()\n",
      "File \u001b[1;32mc:\\Users\\Ahmed Dawoud\\AppData\\Local\\Programs\\Python\\Python311\\Lib\\site-packages\\pandas\\io\\parsers\\c_parser_wrapper.py:234\u001b[0m, in \u001b[0;36mCParserWrapper.read\u001b[1;34m(self, nrows)\u001b[0m\n\u001b[0;32m    232\u001b[0m \u001b[38;5;28;01mtry\u001b[39;00m:\n\u001b[0;32m    233\u001b[0m     \u001b[38;5;28;01mif\u001b[39;00m \u001b[38;5;28mself\u001b[39m\u001b[38;5;241m.\u001b[39mlow_memory:\n\u001b[1;32m--> 234\u001b[0m         chunks \u001b[38;5;241m=\u001b[39m \u001b[38;5;28;43mself\u001b[39;49m\u001b[38;5;241;43m.\u001b[39;49m\u001b[43m_reader\u001b[49m\u001b[38;5;241;43m.\u001b[39;49m\u001b[43mread_low_memory\u001b[49m\u001b[43m(\u001b[49m\u001b[43mnrows\u001b[49m\u001b[43m)\u001b[49m\n\u001b[0;32m    235\u001b[0m         \u001b[38;5;66;03m# destructive to chunks\u001b[39;00m\n\u001b[0;32m    236\u001b[0m         data \u001b[38;5;241m=\u001b[39m _concatenate_chunks(chunks)\n",
      "File \u001b[1;32mparsers.pyx:838\u001b[0m, in \u001b[0;36mpandas._libs.parsers.TextReader.read_low_memory\u001b[1;34m()\u001b[0m\n",
      "File \u001b[1;32mparsers.pyx:905\u001b[0m, in \u001b[0;36mpandas._libs.parsers.TextReader._read_rows\u001b[1;34m()\u001b[0m\n",
      "File \u001b[1;32mparsers.pyx:874\u001b[0m, in \u001b[0;36mpandas._libs.parsers.TextReader._tokenize_rows\u001b[1;34m()\u001b[0m\n",
      "File \u001b[1;32mparsers.pyx:891\u001b[0m, in \u001b[0;36mpandas._libs.parsers.TextReader._check_tokenize_status\u001b[1;34m()\u001b[0m\n",
      "File \u001b[1;32mparsers.pyx:2061\u001b[0m, in \u001b[0;36mpandas._libs.parsers.raise_parser_error\u001b[1;34m()\u001b[0m\n",
      "\u001b[1;31mParserError\u001b[0m: Error tokenizing data. C error: Calling read(nbytes) on source failed. Try engine='python'."
     ]
    }
   ],
   "source": [
    "from tqdm import tqdm\n",
    "\n",
    "window = np.hamming(1750)\n",
    "\n",
    "X = []\n",
    "Y = []\n",
    "\n",
    "for i in tqdm(range(len(train_dataset))):\n",
    "    x, label = train_dataset[i]\n",
    "    x = x.numpy().T * window[:, None]  # Apply Hamming window\n",
    "    fft_vals = np.fft.rfft(x, axis=0)\n",
    "    freqs = np.fft.rfftfreq(1750, d=1 / 250)\n",
    "    # mask STEM FREQ and its harmonics\n",
    "    mask = np.isin(freqs, [7.0, 8.0, 10.0, 13.0])  # SSVEP frequencies\n",
    "    for j in range(1, 5):\n",
    "        mask |= np.isin(freqs, [7.0 * j, 8.0 * j, 10.0 * j, 13.0 * j])\n",
    "    spectrum = fft_vals[mask, :]\n",
    "    # x_features_real = np.real(spectrum).flatten()\n",
    "    # x_features_imag = np.imag(spectrum).flatten()\n",
    "    # x_features = np.concatenate((x_features_real, x_features_imag))\n",
    "    # x_features = torch.from_numpy(x_features).float()\n",
    "    x_features = np.real(spectrum).flatten()\n",
    "    X.append(x_features)\n",
    "    Y.append(label)\n",
    "\n",
    "print(f\"Extracted {len(X)} samples with {len(X[0])} features each.\")\n",
    "X = np.array(X)\n",
    "Y = np.array(Y)\n",
    "print(f\"X shape: {X.shape}, Y shape: {Y.shape}\")"
   ]
  },
  {
   "cell_type": "code",
   "execution_count": 14,
   "id": "e2dc487d",
   "metadata": {},
   "outputs": [
    {
     "name": "stdout",
     "output_type": "stream",
     "text": [
      "Sample EEG tensor shape: torch.Size([8, 1750])\n",
      "Sample label: Left, frequency: 10.0 Hz\n"
     ]
    }
   ],
   "source": [
    "eeg_tensor, label = train_dataset[1]\n",
    "print(f\"Sample EEG tensor shape: {eeg_tensor.shape}\")\n",
    "print(f\"Sample label: {label}, frequency: {STIM_FREQS[label]} Hz\")"
   ]
  },
  {
   "cell_type": "code",
   "execution_count": 176,
   "id": "5cc4bab4",
   "metadata": {},
   "outputs": [
    {
     "name": "stdout",
     "output_type": "stream",
     "text": [
      "SSVEP validation dataset size: 50\n"
     ]
    }
   ],
   "source": [
    "ssvep_val = SSVEP_Dataset(\n",
    "    index_csv=\"validation.csv\",\n",
    "    base_path=\"\",\n",
    "    ch_names=ch_names,\n",
    "    transform=lambda raw: raw.notch_filter(\n",
    "        freqs=50.0, picks=\"eeg\", fir_design=\"firwin\"\n",
    "    ),\n",
    ")\n",
    "print(f\"SSVEP validation dataset size: {len(ssvep_val)}\")"
   ]
  },
  {
   "cell_type": "code",
   "execution_count": 16,
   "id": "2d0b5997",
   "metadata": {},
   "outputs": [
    {
     "name": "stderr",
     "output_type": "stream",
     "text": [
      "100%|██████████| 50/50 [00:05<00:00,  9.18it/s]"
     ]
    },
    {
     "name": "stdout",
     "output_type": "stream",
     "text": [
      "Extracted 50 validation samples with 64 features each.\n",
      "X_val shape: (50, 64), Y_val shape: (50,)\n"
     ]
    },
    {
     "name": "stderr",
     "output_type": "stream",
     "text": [
      "\n"
     ]
    }
   ],
   "source": [
    "X_val = []\n",
    "Y_val = []\n",
    "\n",
    "for i in tqdm(range(len(ssvep_val))):\n",
    "    x, label = ssvep_val[i]\n",
    "    x = x.numpy().T * window[:, None]  # Apply Hamming window\n",
    "    fft_vals = np.fft.rfft(x, axis=0)\n",
    "    freqs = np.fft.rfftfreq(1750, d=1 / 250)\n",
    "    mask = np.isin(freqs, [7.0, 8.0, 10.0, 13.0])  # SSVEP frequencies\n",
    "    for j in range(1, 5):\n",
    "        mask |= np.isin(freqs, [7.0 * j, 8.0 * j, 10.0 * j, 13.0 * j])\n",
    "    spectrum = fft_vals[mask, :]\n",
    "    x_features = np.real(spectrum).flatten()\n",
    "    X_val.append(x_features)\n",
    "    Y_val.append(label)\n",
    "\n",
    "\n",
    "print(f\"Extracted {len(X_val)} validation samples with {len(X_val[0])} features each.\")\n",
    "X_val = np.array(X_val)\n",
    "Y_val = np.array(Y_val)\n",
    "print(f\"X_val shape: {X_val.shape}, Y_val shape: {Y_val.shape}\")"
   ]
  },
  {
   "cell_type": "code",
   "execution_count": null,
   "id": "76e3da17",
   "metadata": {},
   "outputs": [],
   "source": [
    "# train a simple SVM classifier\n",
    "from sklearn.svm import SVC\n",
    "svm_classifier = SVC(kernel=\"linear\", probability=True)\n",
    "svm_classifier.fit(X, Y)\n",
    "# Evaluate on validation set\n",
    "train_accuracy = svm_classifier.score(X, Y)\n",
    "validation_accuracy = svm_classifier.score(X_val, Y_val)\n",
    "print(f\"Training accuracy: {train_accuracy:.4f}\")\n",
    "print(f\"Validation accuracy: {validation_accuracy:.4f}\")"
   ]
  }
 ],
 "metadata": {
  "kernelspec": {
   "display_name": "Python 3",
   "language": "python",
   "name": "python3"
  },
  "language_info": {
   "codemirror_mode": {
    "name": "ipython",
    "version": 3
   },
   "file_extension": ".py",
   "mimetype": "text/x-python",
   "name": "python",
   "nbconvert_exporter": "python",
   "pygments_lexer": "ipython3",
   "version": "3.11.1"
  }
 },
 "nbformat": 4,
 "nbformat_minor": 5
}
